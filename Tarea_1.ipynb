{
 "cells": [
  {
   "cell_type": "markdown",
   "metadata": {},
   "source": [
    "En mi proyecto trabajare con el registro publico de defunciones año a año, los datos fueron extraidos de la pagina de datos abiertos de mexico: https://datos.gob.mx/busca/dataset/defunciones"
   ]
  },
  {
   "cell_type": "code",
   "execution_count": null,
   "metadata": {},
   "outputs": [],
   "source": [
    "# Transformacion de archivos individuales a archivo comunal con todas las defunciones"
   ]
  },
  {
   "cell_type": "code",
   "execution_count": 2,
   "metadata": {},
   "outputs": [],
   "source": [
    "import pandas as pd \n",
    "import os \n",
    "import glob "
   ]
  },
  {
   "cell_type": "code",
   "execution_count": 3,
   "metadata": {},
   "outputs": [],
   "source": [
    "path=r\"C:\\Users\\Victor\\OneDrive\\Documentos\\Datos_masivos\\Defunciones\""
   ]
  },
  {
   "cell_type": "code",
   "execution_count": 4,
   "metadata": {},
   "outputs": [
    {
     "name": "stderr",
     "output_type": "stream",
     "text": [
      "C:\\Users\\Victor\\AppData\\Local\\Temp\\ipykernel_48536\\2167083577.py:8: DtypeWarning: Columns (49) have mixed types. Specify dtype option on import or set low_memory=False.\n",
      "  df = pd.read_csv(f)\n",
      "C:\\Users\\Victor\\AppData\\Local\\Temp\\ipykernel_48536\\2167083577.py:8: DtypeWarning: Columns (42,50) have mixed types. Specify dtype option on import or set low_memory=False.\n",
      "  df = pd.read_csv(f)\n",
      "C:\\Users\\Victor\\AppData\\Local\\Temp\\ipykernel_48536\\2167083577.py:8: DtypeWarning: Columns (72) have mixed types. Specify dtype option on import or set low_memory=False.\n",
      "  df = pd.read_csv(f)\n"
     ]
    }
   ],
   "source": [
    "\n",
    "csv_files = glob.glob(os.path.join(path, \"*.csv\")) \n",
    "  \n",
    "lista=[]\n",
    "\n",
    "for f in csv_files: \n",
    "      \n",
    "    # read the csv file \n",
    "    df = pd.read_csv(f)\n",
    "    df.columns = map(str.lower, df.columns)\n",
    "    lista.append(df)"
   ]
  },
  {
   "cell_type": "code",
   "execution_count": 5,
   "metadata": {},
   "outputs": [],
   "source": [
    "datos_no_transformados=pd.concat(lista, axis=0, ignore_index=True)"
   ]
  },
  {
   "cell_type": "code",
   "execution_count": 6,
   "metadata": {},
   "outputs": [],
   "source": [
    "datos_no_transformados.to_csv(\"Datos_concatenados_no_convertidos.csv\")"
   ]
  },
  {
   "cell_type": "code",
   "execution_count": 8,
   "metadata": {},
   "outputs": [],
   "source": [
    "# Importacion a pyspark"
   ]
  },
  {
   "cell_type": "code",
   "execution_count": 7,
   "metadata": {},
   "outputs": [],
   "source": [
    "import pyspark\n",
    "\n",
    "import findspark\n",
    "findspark.init()\n",
    "findspark.find()\n",
    "\n",
    "from pyspark.sql import DataFrame, SparkSession\n",
    "from typing import List\n",
    "import pyspark.sql.types as T\n",
    "import pyspark.sql.functions as F"
   ]
  },
  {
   "cell_type": "code",
   "execution_count": 9,
   "metadata": {},
   "outputs": [],
   "source": [
    "spark= SparkSession.builder.appName(\"Datos_defunciones\").getOrCreate()"
   ]
  },
  {
   "cell_type": "code",
   "execution_count": 10,
   "metadata": {},
   "outputs": [],
   "source": [
    "df=spark.read.csv(\"Datos_concatenados_no_convertidos.csv\", header=True, inferSchema=True)"
   ]
  },
  {
   "cell_type": "code",
   "execution_count": 11,
   "metadata": {},
   "outputs": [
    {
     "name": "stdout",
     "output_type": "stream",
     "text": [
      "root\n",
      " |-- _c0: integer (nullable = true)\n",
      " |-- ent_regis: integer (nullable = true)\n",
      " |-- mun_regis: integer (nullable = true)\n",
      " |-- ent_resid: integer (nullable = true)\n",
      " |-- mun_resid: integer (nullable = true)\n",
      " |-- tloc_resid: integer (nullable = true)\n",
      " |-- ent_ocurr: integer (nullable = true)\n",
      " |-- mun_ocurr: integer (nullable = true)\n",
      " |-- causa_def: string (nullable = true)\n",
      " |-- lista_mex: string (nullable = true)\n",
      " |-- sexo: integer (nullable = true)\n",
      " |-- edad: integer (nullable = true)\n",
      " |-- dia_ocurr: integer (nullable = true)\n",
      " |-- mes_ocurr: integer (nullable = true)\n",
      " |-- anio_ocur: integer (nullable = true)\n",
      " |-- mes_regis: integer (nullable = true)\n",
      " |-- anio_regis: integer (nullable = true)\n",
      " |-- dia_nacim: integer (nullable = true)\n",
      " |-- mes_nacim: integer (nullable = true)\n",
      " |-- anio_nacim: integer (nullable = true)\n",
      " |-- ocupacion: integer (nullable = true)\n",
      " |-- escolarida: integer (nullable = true)\n",
      " |-- edo_civil: integer (nullable = true)\n",
      " |-- presunto: double (nullable = true)\n",
      " |-- ocurr_trab: integer (nullable = true)\n",
      " |-- lugar_ocur: integer (nullable = true)\n",
      " |-- necropsia: integer (nullable = true)\n",
      " |-- asist_medi: integer (nullable = true)\n",
      " |-- sitio_ocur: integer (nullable = true)\n",
      " |-- cond_cert: integer (nullable = true)\n",
      " |-- cert_nomed: double (nullable = true)\n",
      " |-- nacionalid: integer (nullable = true)\n",
      " |-- derechohab: integer (nullable = true)\n",
      " |-- embarazo: integer (nullable = true)\n",
      " |-- rel_emba: integer (nullable = true)\n",
      " |-- horas: integer (nullable = true)\n",
      " |-- minutos: integer (nullable = true)\n",
      " |-- capitulo: integer (nullable = true)\n",
      " |-- grupo: integer (nullable = true)\n",
      " |-- lista1: double (nullable = true)\n",
      " |-- gr_lismex: string (nullable = true)\n",
      " |-- vio_fami: double (nullable = true)\n",
      " |-- edad_agru: integer (nullable = true)\n",
      " |-- maternas: string (nullable = true)\n",
      " |-- dis_re_oax: integer (nullable = true)\n",
      " |-- tloc_ocurr: double (nullable = true)\n",
      " |-- dia_regis: double (nullable = true)\n",
      " |-- area_ur: double (nullable = true)\n",
      " |-- complicaro: double (nullable = true)\n",
      " |-- dia_cert: double (nullable = true)\n",
      " |-- mes_cert: double (nullable = true)\n",
      " |-- anio_cert: double (nullable = true)\n",
      " |-- peso: double (nullable = true)\n",
      " |-- lengua: double (nullable = true)\n",
      " |-- cond_act: double (nullable = true)\n",
      " |-- par_agre: double (nullable = true)\n",
      " |-- ent_ocules: double (nullable = true)\n",
      " |-- mun_ocules: double (nullable = true)\n",
      " |-- loc_resid: double (nullable = true)\n",
      " |-- loc_ocurr: double (nullable = true)\n",
      " |-- loc_ocules: double (nullable = true)\n",
      " |-- razon_m: double (nullable = true)\n",
      " |-- loc_ocur: double (nullable = true)\n",
      " |-- tloc_regis: double (nullable = true)\n",
      " |-- loc_regis: double (nullable = true)\n",
      " |-- cod_adicio: string (nullable = true)\n",
      " |-- ent_nac: double (nullable = true)\n",
      " |-- afromex: double (nullable = true)\n",
      " |-- conindig: double (nullable = true)\n",
      " |-- cve_lengua: double (nullable = true)\n",
      " |-- nacesp_cve: double (nullable = true)\n",
      " |-- sem_gest: double (nullable = true)\n",
      " |-- gramos: double (nullable = true)\n",
      " |-- tipo_defun: double (nullable = true)\n",
      " |-- cirugia: double (nullable = true)\n",
      " |-- natviole: double (nullable = true)\n",
      " |-- usonecrops: double (nullable = true)\n",
      " |-- encefalica: double (nullable = true)\n",
      " |-- donador: double (nullable = true)\n",
      " |-- id_inegi: string (nullable = true)\n",
      "\n"
     ]
    }
   ],
   "source": [
    "df.printSchema()"
   ]
  },
  {
   "cell_type": "code",
   "execution_count": 12,
   "metadata": {},
   "outputs": [
    {
     "name": "stdout",
     "output_type": "stream",
     "text": [
      "+---+---------+---------+---------+---------+----------+---------+---------+---------+---------+----+----+---------+---------+---------+---------+----------+---------+---------+----------+---------+----------+---------+--------+----------+----------+---------+----------+----------+---------+----------+----------+----------+--------+--------+-----+-------+--------+-----+------+---------+--------+---------+--------+----------+----------+---------+-------+----------+--------+--------+---------+----+------+--------+--------+----------+----------+---------+---------+----------+-------+--------+----------+---------+----------+-------+-------+--------+----------+----------+--------+------+----------+-------+--------+----------+----------+-------+--------+\n",
      "|_c0|ent_regis|mun_regis|ent_resid|mun_resid|tloc_resid|ent_ocurr|mun_ocurr|causa_def|lista_mex|sexo|edad|dia_ocurr|mes_ocurr|anio_ocur|mes_regis|anio_regis|dia_nacim|mes_nacim|anio_nacim|ocupacion|escolarida|edo_civil|presunto|ocurr_trab|lugar_ocur|necropsia|asist_medi|sitio_ocur|cond_cert|cert_nomed|nacionalid|derechohab|embarazo|rel_emba|horas|minutos|capitulo|grupo|lista1|gr_lismex|vio_fami|edad_agru|maternas|dis_re_oax|tloc_ocurr|dia_regis|area_ur|complicaro|dia_cert|mes_cert|anio_cert|peso|lengua|cond_act|par_agre|ent_ocules|mun_ocules|loc_resid|loc_ocurr|loc_ocules|razon_m|loc_ocur|tloc_regis|loc_regis|cod_adicio|ent_nac|afromex|conindig|cve_lengua|nacesp_cve|sem_gest|gramos|tipo_defun|cirugia|natviole|usonecrops|encefalica|donador|id_inegi|\n",
      "+---+---------+---------+---------+---------+----------+---------+---------+---------+---------+----+----+---------+---------+---------+---------+----------+---------+---------+----------+---------+----------+---------+--------+----------+----------+---------+----------+----------+---------+----------+----------+----------+--------+--------+-----+-------+--------+-----+------+---------+--------+---------+--------+----------+----------+---------+-------+----------+--------+--------+---------+----+------+--------+--------+----------+----------+---------+---------+----------+-------+--------+----------+---------+----------+-------+-------+--------+----------+----------+--------+------+----------+-------+--------+----------+----------+-------+--------+\n",
      "|  0|        1|       10|        1|        1|        14|        1|        1|     A419|      03I|   2|4090|        5|        1|     2000|        1|      2000|       99|       99|      1910|        2|         3|        2|     9.0|         9|         9|        9|         1|         3|        2|       9.0|         1|         1|       9|       9|   10|     30|       1|    4|  12.0|       03|     9.0|       23|    NULL|       999|      NULL|     NULL|   NULL|      NULL|    NULL|    NULL|     NULL|NULL|  NULL|    NULL|    NULL|      NULL|      NULL|     NULL|     NULL|      NULL|   NULL|    NULL|      NULL|     NULL|      NULL|   NULL|   NULL|    NULL|      NULL|      NULL|    NULL|  NULL|      NULL|   NULL|    NULL|      NULL|      NULL|   NULL|    NULL|\n",
      "|  1|        1|        1|        1|        1|        14|        1|        1|     P369|      46G|   2|2018|       99|        1|     2000|        1|      2000|       99|       99|      1999|       98|         9|        9|     9.0|         9|         9|        9|         1|         1|        1|       9.0|         1|         2|       9|       9|   18|     30|      16|    5|  92.0|       46|     9.0|        1|    NULL|       999|      NULL|     NULL|   NULL|      NULL|    NULL|    NULL|     NULL|NULL|  NULL|    NULL|    NULL|      NULL|      NULL|     NULL|     NULL|      NULL|   NULL|    NULL|      NULL|     NULL|      NULL|   NULL|   NULL|    NULL|      NULL|      NULL|    NULL|  NULL|      NULL|   NULL|    NULL|      NULL|      NULL|   NULL|    NULL|\n",
      "|  2|        1|        1|        1|        1|        14|        1|        1|     X594|      51Z|   2|4998|        1|        1|     2000|        1|      2000|       99|       99|      9999|        2|         1|        6|     1.0|         2|         3|        1|         2|         4|        3|       9.0|         1|         1|       9|       9|   20|      0|      20|   25| 103.0|      E51|     9.0|       30|    NULL|       999|      NULL|     NULL|   NULL|      NULL|    NULL|    NULL|     NULL|NULL|  NULL|    NULL|    NULL|      NULL|      NULL|     NULL|     NULL|      NULL|   NULL|    NULL|      NULL|     NULL|      NULL|   NULL|   NULL|    NULL|      NULL|      NULL|    NULL|  NULL|      NULL|   NULL|    NULL|      NULL|      NULL|   NULL|    NULL|\n",
      "|  3|        1|        1|        1|        1|        14|        1|        1|     I219|      28A|   2|4998|        1|        1|     2000|        1|      2000|       99|       99|      9999|        2|         9|        6|     9.0|         9|         9|        9|         1|         3|        1|       9.0|         1|        99|       9|       9|   17|      0|       9|    4|  67.0|       28|     9.0|       30|    NULL|       999|      NULL|     NULL|   NULL|      NULL|    NULL|    NULL|     NULL|NULL|  NULL|    NULL|    NULL|      NULL|      NULL|     NULL|     NULL|      NULL|   NULL|    NULL|      NULL|     NULL|      NULL|   NULL|   NULL|    NULL|      NULL|      NULL|    NULL|  NULL|      NULL|   NULL|    NULL|      NULL|      NULL|   NULL|    NULL|\n",
      "|  4|        1|        1|        1|        1|        14|        1|        1|     E122|      20D|   2|4078|        2|        1|     2000|        1|      2000|       99|       99|      1922|        2|         4|        6|     9.0|         9|         9|        9|         1|         1|        2|       9.0|         1|         2|       9|       9|   12|     10|       4|    2|  52.0|       20|     9.0|       20|    NULL|       999|      NULL|     NULL|   NULL|      NULL|    NULL|    NULL|     NULL|NULL|  NULL|    NULL|    NULL|      NULL|      NULL|     NULL|     NULL|      NULL|   NULL|    NULL|      NULL|     NULL|      NULL|   NULL|   NULL|    NULL|      NULL|      NULL|    NULL|  NULL|      NULL|   NULL|    NULL|      NULL|      NULL|   NULL|    NULL|\n",
      "|  5|        1|        1|        1|        1|        14|        1|        1|     J90X|      33J|   1|4051|       29|        1|     2000|        1|      2000|       99|       99|      1949|       11|         7|        2|     9.0|         9|         9|        9|         1|         2|        1|       9.0|         1|         3|       9|       9|   18|      0|      10|    9|  77.0|       33|     9.0|       15|    NULL|       999|      NULL|     NULL|   NULL|      NULL|    NULL|    NULL|     NULL|NULL|  NULL|    NULL|    NULL|      NULL|      NULL|     NULL|     NULL|      NULL|   NULL|    NULL|      NULL|     NULL|      NULL|   NULL|   NULL|    NULL|      NULL|      NULL|    NULL|  NULL|      NULL|   NULL|    NULL|      NULL|      NULL|   NULL|    NULL|\n",
      "|  6|        1|        1|        1|        1|        14|        1|        1|     K254|      35D|   1|4078|        1|        1|     2000|        1|      2000|       99|       99|      1922|        2|         4|        2|     9.0|         9|         9|        9|         2|         3|        2|       9.0|         1|         2|       9|       9|    2|      0|      11|    2|  79.0|       35|     9.0|       20|    NULL|       999|      NULL|     NULL|   NULL|      NULL|    NULL|    NULL|     NULL|NULL|  NULL|    NULL|    NULL|      NULL|      NULL|     NULL|     NULL|      NULL|   NULL|    NULL|      NULL|     NULL|      NULL|   NULL|   NULL|    NULL|      NULL|      NULL|    NULL|  NULL|      NULL|   NULL|    NULL|      NULL|      NULL|   NULL|    NULL|\n",
      "|  7|        1|        1|        1|        1|        14|        1|        1|     Q249|      47E|   1|3002|        1|        1|     2000|        1|      2000|       99|        1|      2000|       98|         9|        9|     9.0|         9|         9|        9|         1|         1|        1|       9.0|         1|         2|       9|       9|   99|     99|      17|    3|  93.0|       47|     9.0|        1|    NULL|       999|      NULL|     NULL|   NULL|      NULL|    NULL|    NULL|     NULL|NULL|  NULL|    NULL|    NULL|      NULL|      NULL|     NULL|     NULL|      NULL|   NULL|    NULL|      NULL|     NULL|      NULL|   NULL|   NULL|    NULL|      NULL|      NULL|    NULL|  NULL|      NULL|   NULL|    NULL|      NULL|      NULL|   NULL|    NULL|\n",
      "|  8|        1|        1|        1|        1|        14|        1|        1|     C509|      11D|   2|4082|       19|        1|     2000|        1|      2000|       99|       99|      1918|        2|         6|        1|     9.0|         9|         9|        9|         1|         3|        1|       9.0|         1|         1|       9|       9|    2|      0|       2|    7|  36.0|       11|     9.0|       21|    NULL|       999|      NULL|     NULL|   NULL|      NULL|    NULL|    NULL|     NULL|NULL|  NULL|    NULL|    NULL|      NULL|      NULL|     NULL|     NULL|      NULL|   NULL|    NULL|      NULL|     NULL|      NULL|   NULL|   NULL|    NULL|      NULL|      NULL|    NULL|  NULL|      NULL|   NULL|    NULL|      NULL|      NULL|   NULL|    NULL|\n",
      "|  9|        1|        1|        1|        1|        14|        1|        1|     C169|      09B|   1|4098|       11|        1|     2000|        1|      2000|       99|       99|      1902|       71|         2|        2|     9.0|         9|         9|        9|         1|         3|        1|       9.0|         1|         1|       9|       9|   18|     45|       2|    2|  29.0|       09|     9.0|       24|    NULL|       999|      NULL|     NULL|   NULL|      NULL|    NULL|    NULL|     NULL|NULL|  NULL|    NULL|    NULL|      NULL|      NULL|     NULL|     NULL|      NULL|   NULL|    NULL|      NULL|     NULL|      NULL|   NULL|   NULL|    NULL|      NULL|      NULL|    NULL|  NULL|      NULL|   NULL|    NULL|      NULL|      NULL|   NULL|    NULL|\n",
      "| 10|        1|        1|        1|        1|        14|        1|        1|     I269|      29A|   1|4073|       11|        1|     2000|        1|      2000|       99|       99|      1927|       52|         1|        2|     9.0|         9|         9|        9|         2|         3|        3|       9.0|         1|         2|       9|       9|    1|      0|       9|    5|  68.0|       29|     9.0|       19|    NULL|       999|      NULL|     NULL|   NULL|      NULL|    NULL|    NULL|     NULL|NULL|  NULL|    NULL|    NULL|      NULL|      NULL|     NULL|     NULL|      NULL|   NULL|    NULL|      NULL|     NULL|      NULL|   NULL|   NULL|    NULL|      NULL|      NULL|    NULL|  NULL|      NULL|   NULL|    NULL|      NULL|      NULL|   NULL|    NULL|\n",
      "| 11|        1|        1|        1|        1|        14|        1|        1|     K709|      35L|   2|4060|       31|       12|     1999|        1|      2000|       99|       99|      1939|        2|         1|        6|     9.0|         9|         9|        9|         1|         1|        2|       9.0|         1|         1|       9|       9|    9|     30|      11|    8|  80.0|       35|     9.0|       17|    NULL|       999|      NULL|     NULL|   NULL|      NULL|    NULL|    NULL|     NULL|NULL|  NULL|    NULL|    NULL|      NULL|      NULL|     NULL|     NULL|      NULL|   NULL|    NULL|      NULL|     NULL|      NULL|   NULL|   NULL|    NULL|      NULL|      NULL|    NULL|  NULL|      NULL|   NULL|    NULL|      NULL|      NULL|   NULL|    NULL|\n",
      "| 12|        1|        1|        1|        1|        14|        1|        1|     X594|      51Z|   1|4019|       29|        1|     2000|        1|      2000|       99|       99|      1981|       62|         5|        1|     1.0|         2|         3|        1|         1|         1|        3|       9.0|         1|         2|       9|       9|   14|     15|      20|   25| 103.0|      E51|     9.0|        8|    NULL|       999|      NULL|     NULL|   NULL|      NULL|    NULL|    NULL|     NULL|NULL|  NULL|    NULL|    NULL|      NULL|      NULL|     NULL|     NULL|      NULL|   NULL|    NULL|      NULL|     NULL|      NULL|   NULL|   NULL|    NULL|      NULL|      NULL|    NULL|  NULL|      NULL|   NULL|    NULL|      NULL|      NULL|   NULL|    NULL|\n",
      "| 13|        1|        1|       14|       32|         1|        1|        1|     P220|      46F|   1|2005|       99|        1|     2000|        1|      2000|       99|       99|      1999|       98|         9|        9|     9.0|         9|         9|        9|         1|         1|        1|       9.0|         1|         2|       9|       9|   22|     30|      16|    4|  92.0|       46|     9.0|        1|    NULL|       999|      NULL|     NULL|   NULL|      NULL|    NULL|    NULL|     NULL|NULL|  NULL|    NULL|    NULL|      NULL|      NULL|     NULL|     NULL|      NULL|   NULL|    NULL|      NULL|     NULL|      NULL|   NULL|   NULL|    NULL|      NULL|      NULL|    NULL|  NULL|      NULL|   NULL|    NULL|      NULL|      NULL|   NULL|    NULL|\n",
      "| 14|        1|        1|        1|        1|        14|        1|        1|     E147|      20D|   1|4075|       31|       12|     1999|        1|      2000|       21|        3|      1924|       52|         2|        6|     9.0|         9|         9|        9|         1|         1|        2|       9.0|         1|         2|       9|       9|   17|     55|       4|    2|  52.0|       20|     9.0|       20|    NULL|       999|      NULL|     NULL|   NULL|      NULL|    NULL|    NULL|     NULL|NULL|  NULL|    NULL|    NULL|      NULL|      NULL|     NULL|     NULL|      NULL|   NULL|    NULL|      NULL|     NULL|      NULL|   NULL|   NULL|    NULL|      NULL|      NULL|    NULL|  NULL|      NULL|   NULL|    NULL|      NULL|      NULL|   NULL|    NULL|\n",
      "| 15|        1|        1|        1|        1|        14|        1|        1|     X700|       54|   2|4021|        2|        1|     2000|        1|      2000|       99|       99|      1979|        2|         6|        1|     3.0|         2|         1|        1|         9|         3|        3|       9.0|         1|         1|       9|       9|   11|     50|      20|   26| 101.0|      E54|     9.0|        9|    NULL|       999|      NULL|     NULL|   NULL|      NULL|    NULL|    NULL|     NULL|NULL|  NULL|    NULL|    NULL|      NULL|      NULL|     NULL|     NULL|      NULL|   NULL|    NULL|      NULL|     NULL|      NULL|   NULL|   NULL|    NULL|      NULL|      NULL|    NULL|  NULL|      NULL|   NULL|    NULL|      NULL|      NULL|   NULL|    NULL|\n",
      "| 16|        1|        1|        1|        1|        14|        1|        1|     C23X|      09Z|   2|4081|       13|        1|     2000|        1|      2000|       99|        1|      1919|        2|         2|        6|     9.0|         9|         9|        9|         1|         3|        1|       9.0|         1|         3|       9|       9|    5|     40|       2|    2|  46.0|       09|     9.0|       21|    NULL|       999|      NULL|     NULL|   NULL|      NULL|    NULL|    NULL|     NULL|NULL|  NULL|    NULL|    NULL|      NULL|      NULL|     NULL|     NULL|      NULL|   NULL|    NULL|      NULL|     NULL|      NULL|   NULL|   NULL|    NULL|      NULL|      NULL|    NULL|  NULL|      NULL|   NULL|    NULL|      NULL|      NULL|   NULL|    NULL|\n",
      "| 17|        1|        1|        1|        1|        14|        1|        1|     J180|      33B|   2|3002|       30|       12|     1999|        1|      2000|        5|       10|      1999|       98|         9|        9|     9.0|         9|         9|        9|         1|         3|        1|       9.0|         1|         2|       9|       9|    7|      0|      10|    2|  74.0|       33|     9.0|        1|    NULL|       999|      NULL|     NULL|   NULL|      NULL|    NULL|    NULL|     NULL|NULL|  NULL|    NULL|    NULL|      NULL|      NULL|     NULL|     NULL|      NULL|   NULL|    NULL|      NULL|     NULL|      NULL|   NULL|   NULL|    NULL|      NULL|      NULL|    NULL|  NULL|      NULL|   NULL|    NULL|      NULL|      NULL|   NULL|    NULL|\n",
      "| 18|        1|        1|        1|        1|        14|        1|        1|     E117|      20D|   2|4075|       12|        1|     2000|        1|      2000|       99|       99|      1925|        2|         6|        6|     9.0|         9|         9|        9|         1|         1|        2|       9.0|         1|         2|       9|       9|    9|     20|       4|    2|  52.0|       20|     9.0|       20|    NULL|       999|      NULL|     NULL|   NULL|      NULL|    NULL|    NULL|     NULL|NULL|  NULL|    NULL|    NULL|      NULL|      NULL|     NULL|     NULL|      NULL|   NULL|    NULL|      NULL|     NULL|      NULL|   NULL|   NULL|    NULL|      NULL|      NULL|    NULL|  NULL|      NULL|   NULL|    NULL|      NULL|      NULL|   NULL|    NULL|\n",
      "| 19|        1|        1|        1|        1|        14|        1|        1|     R99X|      48Z|   2|4101|        2|        1|     2000|        1|      2000|       99|       99|      9999|        2|         6|        6|     9.0|         9|         9|        9|         1|         1|        1|       9.0|         1|         2|       9|       9|   21|     30|      18|   13|  94.0|       48|     9.0|       25|    NULL|       999|      NULL|     NULL|   NULL|      NULL|    NULL|    NULL|     NULL|NULL|  NULL|    NULL|    NULL|      NULL|      NULL|     NULL|     NULL|      NULL|   NULL|    NULL|      NULL|     NULL|      NULL|   NULL|   NULL|    NULL|      NULL|      NULL|    NULL|  NULL|      NULL|   NULL|    NULL|      NULL|      NULL|   NULL|    NULL|\n",
      "+---+---------+---------+---------+---------+----------+---------+---------+---------+---------+----+----+---------+---------+---------+---------+----------+---------+---------+----------+---------+----------+---------+--------+----------+----------+---------+----------+----------+---------+----------+----------+----------+--------+--------+-----+-------+--------+-----+------+---------+--------+---------+--------+----------+----------+---------+-------+----------+--------+--------+---------+----+------+--------+--------+----------+----------+---------+---------+----------+-------+--------+----------+---------+----------+-------+-------+--------+----------+----------+--------+------+----------+-------+--------+----------+----------+-------+--------+\n",
      "only showing top 20 rows\n",
      "\n"
     ]
    }
   ],
   "source": [
    "df.show()"
   ]
  },
  {
   "cell_type": "code",
   "execution_count": 13,
   "metadata": {},
   "outputs": [
    {
     "name": "stdout",
     "output_type": "stream",
     "text": [
      "+-------+------------------+------------------+------------------+------------------+------------------+------------------+------------------+-----------------+---------+------------------+------------------+------------------+-----------------+-----------------+------------------+------------------+------------------+-----------------+-----------------+-----------------+-----------------+------------------+------------------+------------------+-----------------+------------------+------------------+------------------+------------------+------------------+------------------+------------------+------------------+------------------+------------------+------------------+------------------+-----------------+-----------------+-----------------+------------------+------------------+------------------+--------+-----------------+------------------+-----------------+------------------+------------------+------------------+-----------------+------------------+-----------------+-----------------+------------------+------------------+------------------+------------------+----------------+-----------------+------------------+--------------------+------------------+------------------+------------------+----------+------------------+------------------+------------------+------------------+-----------------+-----------------+-----------------+------------------+-----------------+------------------+-----------------+-----------------+------------------+--------------------+\n",
      "|summary|               _c0|         ent_regis|         mun_regis|         ent_resid|         mun_resid|        tloc_resid|         ent_ocurr|        mun_ocurr|causa_def|         lista_mex|              sexo|              edad|        dia_ocurr|        mes_ocurr|         anio_ocur|         mes_regis|        anio_regis|        dia_nacim|        mes_nacim|       anio_nacim|        ocupacion|        escolarida|         edo_civil|          presunto|       ocurr_trab|        lugar_ocur|         necropsia|        asist_medi|        sitio_ocur|         cond_cert|        cert_nomed|        nacionalid|        derechohab|          embarazo|          rel_emba|             horas|           minutos|         capitulo|            grupo|           lista1|         gr_lismex|          vio_fami|         edad_agru|maternas|       dis_re_oax|        tloc_ocurr|        dia_regis|           area_ur|        complicaro|          dia_cert|         mes_cert|         anio_cert|             peso|           lengua|          cond_act|          par_agre|        ent_ocules|        mun_ocules|       loc_resid|        loc_ocurr|        loc_ocules|             razon_m|          loc_ocur|        tloc_regis|         loc_regis|cod_adicio|           ent_nac|           afromex|          conindig|        cve_lengua|       nacesp_cve|         sem_gest|           gramos|        tipo_defun|          cirugia|          natviole|       usonecrops|       encefalica|           donador|            id_inegi|\n",
      "+-------+------------------+------------------+------------------+------------------+------------------+------------------+------------------+-----------------+---------+------------------+------------------+------------------+-----------------+-----------------+------------------+------------------+------------------+-----------------+-----------------+-----------------+-----------------+------------------+------------------+------------------+-----------------+------------------+------------------+------------------+------------------+------------------+------------------+------------------+------------------+------------------+------------------+------------------+------------------+-----------------+-----------------+-----------------+------------------+------------------+------------------+--------+-----------------+------------------+-----------------+------------------+------------------+------------------+-----------------+------------------+-----------------+-----------------+------------------+------------------+------------------+------------------+----------------+-----------------+------------------+--------------------+------------------+------------------+------------------+----------+------------------+------------------+------------------+------------------+-----------------+-----------------+-----------------+------------------+-----------------+------------------+-----------------+-----------------+------------------+--------------------+\n",
      "|  count|          14508281|          14508281|          14508281|          14508281|          14508281|          14508281|          14508281|         14508281| 14508281|          14508281|          14508281|          14508281|         14508281|         14508281|          14508281|          14508281|          14508281|         14508281|         14508281|         14508281|         14508281|          14508281|          14508281|          13660565|         14508281|          14508281|          14508281|          14508281|          14508281|          14508281|           1812621|          14508281|          14508281|          14508281|          14508281|          14508281|          14508281|         14508281|         14508281|         14469773|          14508281|          13660565|          14508281|   25840|         14508281|          13627487|         13627487|          13627487|          12695660|          12695660|         12695660|          12695660|          4264462|          8431198|           8431198|           8431198|           8431198|           8431198|         7828844|          7125797|           7828844|             6404655|            703047|            847716|            847716|     84917|            847716|            847716|            847716|            847716|           847716|           847716|           847716|            847716|           847716|            847716|           847716|           847716|            847716|              847716|\n",
      "|   mean|         7254140.0|16.426825755580555|50.552039073409176|17.002748706066555| 60.33911908654099|11.398649157677605|16.580983646511946|53.01452666928632|     NULL|26.937672337048948|1.4422292344627181|3984.6672765022954| 15.8084848232537|6.529013809423735|2014.6523945876152|  6.44115908700693|2012.6593063644136|34.53166360646034|25.22867988288895|2037.570211591573|36.22174901354612|   8.7455640678589| 3.914219885870697| 7.437610303819791|7.744677332896985|  70.3067399232204|3.6635273331141023|1.6467310634526586| 9.643792396907669|2.5054196978952916| 8.898496155566994|1.0438825936718485|14.519616279833565| 8.021767706318895| 7.913926122605428|13.074991861544452|21.957779284809828| 9.46888352934438|6.484191476578101|92.30953588560097|25.384265920248342|  8.08790039065002|16.891400780009707|    NULL|956.1302041227351|11.702286268921041|18.06100713946746|1.3777050016631827| 7.765302158375381|16.158751573372317|6.613551796440674|2023.9878082746388|8798.389794070155|  2.9797447527623|2.1041212648546503| 88.39775035528758| 86.00779936611617| 864.0491061887053| 578.84815369932|434.1142164167741| 8682.146992710546|0.001294058774438...|491.86764753992264|11.489313638058029|13.349932052715769|      NULL|50.049431649278766| 5.167392145482685|5.0692425293376555| 8656.701359889397|993.3035568515871|87.51881054504103|8865.574080234419|3.8141311476956905|5.442569209499408| 4.812550429625016|7.657309759400554|6.638232615640144| 7.953542224046733|1.651199932209902...|\n",
      "| stddev|4188180.1147519313| 8.092790456572644| 63.91240675097446| 9.863453969519018|109.77993500247365| 13.73976455535096| 8.826170627395662|82.30578986253603|     NULL|14.310286763299203|0.5300687637455519|427.49060649663363|9.292212060086358|4.255253885739938|128.02724179515798|3.5510475639101156| 6.651783742225832|35.98958884924256|37.78825973450077|833.9774055636028|86.73252986603441|20.585174469251836|2.1769796515967688|2.0476287597083602|1.496363897351972|33.604410881026965|3.0513606250851892|  1.93663277566317|16.226530644337267|1.2372877011336945|0.8310470782833198|0.5546766183257509| 31.61607989397384|0.7999012699864829|1.3092883153914572|12.587098527436288|20.085403486584145|5.956900778242328|6.350269371790501|144.8867106982116| 10.75574770327055|0.3667495100738921| 5.480645683466973|    NULL|195.7174602928599| 10.44328629038858|16.33804964639729|1.1761748308515654|1.3152277474254968|10.604887291928334|5.142080014744248| 278.8540865050691|829.5827563519099|2.524097497268412|1.9267773619046573|2.3796126794500814|12.883932098507778|151.06040256562687|2130.42109462034|1832.329715301773|1438.2652788474445| 0.03594974809529076|1939.4474361907883| 4.631905189155796|209.66011804924833|      NULL|169.28007918106516|3.0549472147826724|3.0872978608713626|1378.3043164135952|59.32367920977055| 5.23728743469851|505.2185500853531|0.8393636344424337|3.101187753880822|3.0553838374097513|1.526887000937651|2.856947184345425|0.5356942455759112| 8.127857660267065E9|\n",
      "|    min|                 0|                 1|                 1|                 1|                 1|                 1|                 1|                1|     A010|               01B|                 1|              1001|                1|                1|              1900|                 1|              2000|                1|                1|             1889|                1|                 1|                 1|               1.0|                1|                 0|                 1|                 1|                 1|                 1|               1.0|                 1|                 1|                 1|                 1|                 0|                 0|                1|                1|              3.0|                01|               1.0|                 1|    A34X|                1|               1.0|              1.0|               1.0|               1.0|               1.0|              1.0|            2003.0|              0.0|              1.0|               1.0|               1.0|               1.0|               1.0|             1.0|              1.0|               1.0|                 0.0|               1.0|               1.0|               1.0|      F001|               1.0|               1.0|               1.0|             202.0|            102.0|             22.0|            600.0|               1.0|              1.0|               1.0|              1.0|              1.0|               1.0|         01001008318|\n",
      "|    max|          14508280|                32|               570|                99|               999|                99|                99|              999|     Y899|                59|                 9|              4998|               99|               99|              9999|                12|              2022|               99|               99|             9999|              999|                99|                 9|               9.0|                9|                88|                 9|                 9|                99|                 9|               9.0|                 9|                99|                 9|                 9|                99|                99|               22|               34|            903.0|               E59|               9.0|                30|    O998|              999|              99.0|             99.0|               9.0|               9.0|              99.0|             99.0|            9999.0|           8888.0|              9.0|               9.0|              99.0|              99.0|             999.0|          9999.0|           9999.0|            9999.0|                 1.0|            9999.0|              17.0|            7777.0|      T983|             999.0|               9.0|               9.0|            9020.0|            999.0|             99.0|           9999.0|               9.0|              9.0|               8.0|              9.0|              9.0|               9.0|          9017082974|\n",
      "+-------+------------------+------------------+------------------+------------------+------------------+------------------+------------------+-----------------+---------+------------------+------------------+------------------+-----------------+-----------------+------------------+------------------+------------------+-----------------+-----------------+-----------------+-----------------+------------------+------------------+------------------+-----------------+------------------+------------------+------------------+------------------+------------------+------------------+------------------+------------------+------------------+------------------+------------------+------------------+-----------------+-----------------+-----------------+------------------+------------------+------------------+--------+-----------------+------------------+-----------------+------------------+------------------+------------------+-----------------+------------------+-----------------+-----------------+------------------+------------------+------------------+------------------+----------------+-----------------+------------------+--------------------+------------------+------------------+------------------+----------+------------------+------------------+------------------+------------------+-----------------+-----------------+-----------------+------------------+-----------------+------------------+-----------------+-----------------+------------------+--------------------+\n",
      "\n"
     ]
    }
   ],
   "source": [
    "df.describe().show()"
   ]
  },
  {
   "cell_type": "code",
   "execution_count": 16,
   "metadata": {},
   "outputs": [
    {
     "name": "stdout",
     "output_type": "stream",
     "text": [
      "+--------+---------+---------+---------+---------+----------+---------+---------+---------+---------+----+----+---------+---------+---------+---------+----------+---------+---------+----------+---------+----------+---------+--------+----------+----------+---------+----------+----------+---------+----------+----------+----------+--------+--------+-----+-------+--------+-----+------+---------+--------+---------+--------+----------+----------+---------+-------+----------+--------+--------+---------+----+------+--------+--------+----------+----------+---------+---------+----------+-------+--------+----------+---------+----------+-------+-------+--------+----------+----------+--------+------+----------+-------+--------+----------+----------+-------+-----------+\n",
      "|     _c0|ent_regis|mun_regis|ent_resid|mun_resid|tloc_resid|ent_ocurr|mun_ocurr|causa_def|lista_mex|sexo|edad|dia_ocurr|mes_ocurr|anio_ocur|mes_regis|anio_regis|dia_nacim|mes_nacim|anio_nacim|ocupacion|escolarida|edo_civil|presunto|ocurr_trab|lugar_ocur|necropsia|asist_medi|sitio_ocur|cond_cert|cert_nomed|nacionalid|derechohab|embarazo|rel_emba|horas|minutos|capitulo|grupo|lista1|gr_lismex|vio_fami|edad_agru|maternas|dis_re_oax|tloc_ocurr|dia_regis|area_ur|complicaro|dia_cert|mes_cert|anio_cert|peso|lengua|cond_act|par_agre|ent_ocules|mun_ocules|loc_resid|loc_ocurr|loc_ocules|razon_m|loc_ocur|tloc_regis|loc_regis|cod_adicio|ent_nac|afromex|conindig|cve_lengua|nacesp_cve|sem_gest|gramos|tipo_defun|cirugia|natviole|usonecrops|encefalica|donador|   id_inegi|\n",
      "+--------+---------+---------+---------+---------+----------+---------+---------+---------+---------+----+----+---------+---------+---------+---------+----------+---------+---------+----------+---------+----------+---------+--------+----------+----------+---------+----------+----------+---------+----------+----------+----------+--------+--------+-----+-------+--------+-----+------+---------+--------+---------+--------+----------+----------+---------+-------+----------+--------+--------+---------+----+------+--------+--------+----------+----------+---------+---------+----------+-------+--------+----------+---------+----------+-------+-------+--------+----------+----------+--------+------+----------+-------+--------+----------+----------+-------+-----------+\n",
      "|14176415|       19|       39|       99|      999|        99|       99|      999|     C509|      11D|   2|4071|       14|        3|     2019|        7|      2022|        7|        7|      1947|      999|        99|        5|    NULL|         8|        88|        9|         9|         4|        3|      NULL|         1|        99|       9|       9|    0|      0|       2|    7|  36.0|       11|    NULL|       19|    NULL|       999|      99.0|     27.0|    9.0|       9.0|    99.0|     7.0|   2022.0|NULL|   8.0|     9.0|    88.0|      88.0|     888.0|   9999.0|   9999.0|    8888.0|    0.0|    NULL|      16.0|      1.0|      NULL|  888.0|    8.0|     8.0|    8888.0|     998.0|    88.0|8888.0|       4.0|    8.0|     8.0|       8.0|       8.0|    8.0|19039023648|\n",
      "|14176416|       19|       39|       99|      999|        99|       99|      999|     E149|      20D|   2|4998|       24|        2|     2006|        7|      2022|       99|       99|      9999|      999|        99|        5|    NULL|         8|        88|        9|         9|        99|        3|      NULL|         1|        99|       9|       9|    0|      0|       4|    2|  52.0|       20|    NULL|       30|    NULL|       999|      99.0|     13.0|    9.0|       9.0|    99.0|     7.0|   2022.0|NULL|   8.0|     9.0|    88.0|      88.0|     888.0|   9999.0|   9999.0|    8888.0|    0.0|    NULL|      16.0|      1.0|      NULL|  888.0|    8.0|     8.0|    8888.0|     998.0|    88.0|8888.0|       4.0|    8.0|     8.0|       8.0|       8.0|    8.0|19039023649|\n",
      "|14176417|       19|       39|       99|      999|        99|       99|      999|     A099|      01H|   1|4094|       11|        2|     2020|        7|      2022|       15|        8|      1925|      999|        99|        3|    NULL|         8|        88|        9|         9|        99|        3|      NULL|         1|        99|       8|       8|   15|     24|       1|    1|   3.0|       01|    NULL|       23|    NULL|       999|      99.0|     19.0|    9.0|       8.0|    99.0|     7.0|   2022.0|NULL|   8.0|     9.0|    88.0|      88.0|     888.0|   9999.0|   9999.0|    8888.0|    0.0|    NULL|      16.0|      1.0|      NULL|  888.0|    8.0|     8.0|    8888.0|     998.0|    88.0|8888.0|       4.0|    8.0|     8.0|       8.0|       8.0|    8.0|19039023652|\n",
      "|14176418|       19|       39|       99|      999|        99|       19|       39|     D474|       18|   2|4063|        7|        3|     2020|        7|      2022|       17|        9|      1956|      999|        99|        5|    NULL|         8|        88|        9|         9|         1|        3|      NULL|         1|        99|       9|       9|    0|      0|       2|   18|  47.0|       18|    NULL|       17|    NULL|       999|      16.0|     14.0|    9.0|       9.0|    99.0|     7.0|   2022.0|NULL|   8.0|     9.0|    88.0|      88.0|     888.0|   9999.0|      1.0|    8888.0|    0.0|    NULL|      16.0|      1.0|      NULL|  888.0|    8.0|     8.0|    8888.0|     998.0|    88.0|8888.0|       4.0|    8.0|     8.0|       8.0|       8.0|    8.0|19039023653|\n",
      "|14176419|       19|       39|       99|      999|        99|       19|       39|     J969|      33Z|   2|4086|       26|        1|     2019|        7|      2022|       12|        6|      1932|      999|        99|        3|    NULL|         8|        88|        9|         9|         4|        3|      NULL|         1|        99|       9|       9|    0|      0|      10|   10|  77.0|       33|    NULL|       22|    NULL|       999|      16.0|     26.0|    9.0|       9.0|    99.0|     7.0|   2022.0|NULL|   8.0|     9.0|    88.0|      88.0|     888.0|   9999.0|      1.0|    8888.0|    0.0|    NULL|      16.0|      1.0|      NULL|  888.0|    8.0|     8.0|    8888.0|     998.0|    88.0|8888.0|       4.0|    8.0|     8.0|       8.0|       8.0|    8.0|19039023654|\n",
      "|14176420|       19|       39|       19|       48|        14|       19|       26|     I634|      30C|   2|4072|       13|       12|     2004|        8|      2022|       99|       99|      9999|      999|        99|        3|    NULL|         8|        88|        9|         9|         4|        9|      NULL|         1|        99|       9|       9|    0|      0|       9|    7|  69.0|       30|    NULL|       19|    NULL|       999|      15.0|     12.0|    1.0|       9.0|    99.0|     8.0|   2022.0|NULL|   8.0|     9.0|    88.0|      88.0|     888.0|      1.0|      1.0|    8888.0|    0.0|    NULL|      16.0|      1.0|      NULL|  888.0|    8.0|     8.0|    8888.0|     998.0|    88.0|8888.0|       4.0|    8.0|     8.0|       8.0|       8.0|    8.0|19039024634|\n",
      "|14176421|       19|       39|       19|       38|         1|       19|       38|     E788|      20E|   1|4085|       29|        8|     2021|        8|      2022|       99|       99|      9999|      999|        99|        5|    NULL|         8|        88|        9|         9|         3|        9|      NULL|         1|        99|       8|       8|    0|      0|       4|    8|  54.0|       20|    NULL|       22|    NULL|       999|       1.0|     16.0|    2.0|       8.0|    29.0|     8.0|   2021.0|NULL|   8.0|     9.0|    88.0|      88.0|     888.0|   7777.0|   7777.0|    8888.0|    0.0|    NULL|      16.0|      1.0|      NULL|  888.0|    8.0|     8.0|    8888.0|     998.0|    88.0|8888.0|       4.0|    8.0|     8.0|       8.0|       8.0|    8.0|19039024635|\n",
      "|14176422|       19|        2|       99|      999|        99|       19|       39|     I672|      30E|   1|4094|       24|        4|     2012|        1|      2022|       30|        3|      1918|      999|        99|        3|    NULL|         8|        88|        9|         9|         1|        3|      NULL|         1|        99|       8|       8|    6|     10|       9|    7|  69.0|       30|    NULL|       23|    NULL|       999|      16.0|     27.0|    9.0|       8.0|    99.0|     1.0|   2022.0|NULL|   8.0|     9.0|    88.0|      88.0|     888.0|   9999.0|      1.0|    8888.0|    0.0|    NULL|       3.0|      1.0|      NULL|  888.0|    8.0|     8.0|    8888.0|     998.0|    88.0|8888.0|       4.0|    8.0|     8.0|       8.0|       8.0|    8.0|19002019320|\n",
      "|14176423|       19|       13|       19|       13|         5|       19|       13|     C229|      09F|   1|4075|        3|        3|     2015|        6|      2022|        6|        9|      1939|      999|        99|        5|    NULL|         8|        88|        9|         9|        99|        9|      NULL|         1|        99|       8|       8|    0|      0|       2|    2|  31.0|       09|    NULL|       20|    NULL|       999|       5.0|     20.0|    1.0|       8.0|    99.0|     6.0|   2022.0|NULL|   8.0|     9.0|    88.0|      88.0|     888.0|      1.0|      1.0|    8888.0|    0.0|    NULL|       5.0|      1.0|      NULL|  888.0|    8.0|     8.0|    8888.0|     998.0|    88.0|8888.0|       4.0|    8.0|     8.0|       8.0|       8.0|    8.0|19013016964|\n",
      "|14176424|       19|       39|        1|        2|         5|       19|       39|     I509|      29D|   1|4076|       22|        8|     2015|        9|      2022|       11|        2|      1939|      999|        99|        1|    NULL|         8|        88|        9|         9|         1|        1|      NULL|         1|        99|       8|       8|   99|     99|       9|    6|  68.0|       29|    NULL|       20|    NULL|       999|      16.0|      6.0|    1.0|       8.0|    99.0|     9.0|   2022.0|NULL|   8.0|     9.0|    88.0|      88.0|     888.0|      1.0|      1.0|    8888.0|    0.0|    NULL|      16.0|      1.0|      NULL|  888.0|    8.0|     8.0|    8888.0|     998.0|    88.0|8888.0|       4.0|    8.0|     8.0|       8.0|       8.0|    8.0|19039029378|\n",
      "|14176425|       19|       39|       19|       39|        16|       19|       39|     G419|      23G|   2|4998|        2|       12|     2006|        9|      2022|       99|       99|      9999|      999|        99|        5|    NULL|         8|        88|        9|         9|        99|        1|      NULL|         1|        99|       9|       9|   99|     99|       6|    6|  61.0|       23|    NULL|       30|    NULL|       999|      16.0|     15.0|    1.0|       9.0|    99.0|     9.0|   2022.0|NULL|   8.0|     9.0|    88.0|      88.0|     888.0|      1.0|      1.0|    8888.0|    0.0|    NULL|      16.0|      1.0|      NULL|  888.0|    8.0|     8.0|    8888.0|     998.0|    88.0|8888.0|       4.0|    8.0|     8.0|       8.0|       8.0|    8.0|19039029379|\n",
      "|14176426|       19|       39|        5|       35|        15|       19|       39|     C56X|      12D|   2|4042|        9|       11|     2021|        9|      2022|        7|        7|      1979|      999|        99|        1|    NULL|         8|        88|        9|         9|        99|        1|      NULL|         1|        99|       9|       9|    0|      0|       2|    8|  39.0|       12|    NULL|       13|    NULL|       999|      16.0|     28.0|    1.0|       9.0|     9.0|    11.0|   2021.0|NULL|   8.0|     9.0|    88.0|      88.0|     888.0|      1.0|      1.0|    8888.0|    0.0|    NULL|      16.0|      1.0|      NULL|  888.0|    8.0|     8.0|    8888.0|     998.0|    88.0|8888.0|       4.0|    8.0|     8.0|       8.0|       8.0|    8.0|19039029382|\n",
      "|14176427|       19|       39|       99|      999|        99|       19|       39|     A419|      03I|   2|4071|       11|        1|     2017|        8|      2022|       27|        8|      1945|      999|        99|        3|    NULL|         8|        88|        9|         9|        99|        1|      NULL|         1|        99|       9|       9|   99|     99|       1|    4|  12.0|       03|    NULL|       19|    NULL|       999|      16.0|     25.0|    9.0|       9.0|    99.0|     8.0|   2022.0|NULL|   8.0|     9.0|    88.0|      88.0|     888.0|   9999.0|      1.0|    8888.0|    0.0|    NULL|      16.0|      1.0|      NULL|  888.0|    8.0|     8.0|    8888.0|     998.0|    88.0|8888.0|       4.0|    8.0|     8.0|       8.0|       8.0|    8.0|19039029566|\n",
      "|14176428|       19|       39|       99|      999|        99|       19|        6|     E111|      20D|   2|4998|        2|        2|     2018|        8|      2022|       99|       99|      9999|      999|        99|        3|    NULL|         8|        88|        9|         9|        99|        1|      NULL|         1|        99|       9|       9|   99|     99|       4|    2|  52.0|       20|    NULL|       30|    NULL|       999|      15.0|     15.0|    9.0|       9.0|    99.0|     8.0|   2022.0|NULL|   8.0|     9.0|    88.0|      88.0|     888.0|   9999.0|      1.0|    8888.0|    0.0|    NULL|      16.0|      1.0|      NULL|  888.0|    8.0|     8.0|    8888.0|     998.0|    88.0|8888.0|       4.0|    8.0|     8.0|       8.0|       8.0|    8.0|19039029567|\n",
      "|14176429|       19|       26|       19|       39|        16|       19|       39|     N189|      38C|   2|4086|        9|        1|     2007|        7|      2022|        2|        8|      1920|      999|        99|        1|    NULL|         8|        88|        9|         9|         1|        3|      NULL|         1|        99|       9|       9|    0|      1|      14|    3|  86.0|       38|    NULL|       22|    NULL|       999|      16.0|     13.0|    1.0|       9.0|    99.0|     7.0|   2022.0|NULL|   8.0|     9.0|    88.0|      88.0|     888.0|      1.0|      1.0|    8888.0|    0.0|    NULL|      15.0|      1.0|      NULL|  888.0|    8.0|     8.0|    8888.0|     998.0|    88.0|8888.0|       4.0|    8.0|     8.0|       8.0|       8.0|    8.0|19026023651|\n",
      "|14176430|       19|       39|       99|      999|        99|       19|       39|     K746|      35M|   1|4049|       16|        6|     2021|        5|      2022|       99|       99|      9999|      999|        99|        5|    NULL|         8|        88|        9|         9|        99|        3|      NULL|         1|        99|       8|       8|    0|      0|      11|    8|  80.0|       35|    NULL|       14|    NULL|       999|      16.0|     11.0|    9.0|       8.0|    16.0|     6.0|   2021.0|NULL|   8.0|     9.0|    88.0|      88.0|     888.0|   9999.0|      1.0|    8888.0|    0.0|    NULL|      16.0|      1.0|      NULL|  888.0|    8.0|     8.0|    8888.0|     998.0|    88.0|8888.0|       4.0|    8.0|     8.0|       8.0|       8.0|    8.0|19039013466|\n",
      "|14176431|       19|       39|       99|      999|        99|       19|       39|     I219|      28A|   2|4090|       31|        3|     2014|       10|      2022|       20|        2|      1924|      999|        99|        5|    NULL|         8|        88|        9|         9|         3|        3|      NULL|         1|        99|       9|       9|    0|      0|       9|    4|  67.0|       28|    NULL|       23|    NULL|       999|      16.0|     28.0|    9.0|       9.0|    99.0|    10.0|   2022.0|NULL|   8.0|     9.0|    88.0|      88.0|     888.0|   9999.0|      1.0|    8888.0|    0.0|    NULL|      16.0|      1.0|      NULL|  888.0|    8.0|     8.0|    8888.0|     998.0|    88.0|8888.0|       4.0|    8.0|     8.0|       8.0|       8.0|    8.0|19039031110|\n",
      "|14176432|       19|       39|       19|       26|        15|       19|       26|     E878|      20Z|   2|4088|       28|       10|     2021|       11|      2022|       23|        3|      1933|      999|        99|        3|    NULL|         8|        88|        9|         1|         1|        1|      NULL|         1|        99|       9|       9|   13|     30|       4|    8|  54.0|       20|    NULL|       22|    NULL|       999|      15.0|     25.0|    1.0|       9.0|    28.0|    10.0|   2021.0|NULL|   8.0|     9.0|    88.0|      88.0|     888.0|      1.0|      1.0|    8888.0|    0.0|    NULL|      16.0|      1.0|      NULL|  888.0|    8.0|     8.0|    8888.0|     998.0|    88.0|8888.0|       4.0|    8.0|     8.0|       8.0|       8.0|    8.0|19039032852|\n",
      "|14176433|       19|       39|       99|      999|        99|       19|       26|     A099|      01H|   2|4998|       11|        1|     2015|       11|      2022|       99|       99|      9999|      999|        99|        5|    NULL|         8|        88|        9|         9|         1|        9|      NULL|         1|        99|       9|       9|    0|      0|       1|    1|   3.0|       01|    NULL|       30|    NULL|       999|      15.0|      1.0|    9.0|       9.0|    99.0|    11.0|   2022.0|NULL|   8.0|     9.0|    88.0|      88.0|     888.0|   9999.0|      1.0|    8888.0|    0.0|    NULL|      16.0|      1.0|      NULL|  888.0|    8.0|     8.0|    8888.0|     998.0|    88.0|8888.0|       4.0|    8.0|     8.0|       8.0|       8.0|    8.0|19039033115|\n",
      "|14176434|       19|       39|       99|      999|        99|       19|       26|     I509|      29D|   2|4998|       22|       12|     2018|       11|      2022|       99|       99|      9999|      999|        99|        5|    NULL|         8|        88|        9|         9|         1|        9|      NULL|         1|        99|       9|       9|    0|      0|       9|    6|  68.0|       29|    NULL|       30|    NULL|       999|      15.0|      1.0|    9.0|       9.0|    99.0|    11.0|   2022.0|NULL|   8.0|     9.0|    88.0|      88.0|     888.0|   9999.0|      1.0|    8888.0|    0.0|    NULL|      16.0|      1.0|      NULL|  888.0|    8.0|     8.0|    8888.0|     998.0|    88.0|8888.0|       4.0|    8.0|     8.0|       8.0|       8.0|    8.0|19039033116|\n",
      "+--------+---------+---------+---------+---------+----------+---------+---------+---------+---------+----+----+---------+---------+---------+---------+----------+---------+---------+----------+---------+----------+---------+--------+----------+----------+---------+----------+----------+---------+----------+----------+----------+--------+--------+-----+-------+--------+-----+------+---------+--------+---------+--------+----------+----------+---------+-------+----------+--------+--------+---------+----+------+--------+--------+----------+----------+---------+---------+----------+-------+--------+----------+---------+----------+-------+-------+--------+----------+----------+--------+------+----------+-------+--------+----------+----------+-------+-----------+\n",
      "only showing top 20 rows\n",
      "\n"
     ]
    }
   ],
   "source": [
    "#Obteniendo las defunciones unicamente de nuevo leon (ent_regis=19)\n",
    "df.filter(df.ent_regis ==19).orderBy(F.desc(\"anio_regis\")).show()"
   ]
  },
  {
   "cell_type": "code",
   "execution_count": 23,
   "metadata": {},
   "outputs": [
    {
     "name": "stdout",
     "output_type": "stream",
     "text": [
      "+----------+-----+\n",
      "|anio_regis|count|\n",
      "+----------+-----+\n",
      "|      2001|17231|\n",
      "|      2000|17031|\n",
      "|      2002|17642|\n",
      "|      2003|18086|\n",
      "|      2004|18078|\n",
      "|      2005|19928|\n",
      "|      2006|19371|\n",
      "|      2007|20742|\n",
      "|      2008|21109|\n",
      "|      2009|23167|\n",
      "|      2010|23862|\n",
      "|      2011|24616|\n",
      "|      2012|24651|\n",
      "|      2013|25127|\n",
      "|      2014|25407|\n",
      "|      2015|25723|\n",
      "|      2016|26783|\n",
      "|      2017|27919|\n",
      "|      2018|29686|\n",
      "|      2019|31065|\n",
      "+----------+-----+\n",
      "only showing top 20 rows\n",
      "\n"
     ]
    }
   ],
   "source": [
    "#Viendo evolucion año a año\n",
    "df.filter(df.ent_regis == 19).groupBy(\"anio_regis\").count().show()"
   ]
  }
 ],
 "metadata": {
  "kernelspec": {
   "display_name": "base",
   "language": "python",
   "name": "python3"
  },
  "language_info": {
   "codemirror_mode": {
    "name": "ipython",
    "version": 3
   },
   "file_extension": ".py",
   "mimetype": "text/x-python",
   "name": "python",
   "nbconvert_exporter": "python",
   "pygments_lexer": "ipython3",
   "version": "3.12.4"
  }
 },
 "nbformat": 4,
 "nbformat_minor": 2
}
