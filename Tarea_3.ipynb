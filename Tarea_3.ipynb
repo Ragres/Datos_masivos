{
 "cells": [
  {
   "cell_type": "code",
   "execution_count": 1,
   "metadata": {},
   "outputs": [
    {
     "name": "stdout",
     "output_type": "stream",
     "text": [
      "Requirement already satisfied: pyspark in c:\\users\\victor\\anaconda3\\lib\\site-packages (3.5.3)\n",
      "Requirement already satisfied: py4j==0.10.9.7 in c:\\users\\victor\\anaconda3\\lib\\site-packages (from pyspark) (0.10.9.7)\n"
     ]
    }
   ],
   "source": [
    "!pip install pyspark"
   ]
  },
  {
   "cell_type": "code",
   "execution_count": 1,
   "metadata": {},
   "outputs": [],
   "source": [
    "import pyspark\n",
    "\n",
    "import findspark\n",
    "findspark.init()\n",
    "findspark.find()\n",
    "\n",
    "from pyspark.sql import DataFrame, SparkSession\n",
    "from typing import List\n",
    "import pyspark.sql.types as T\n",
    "import pyspark.sql.functions as F\n",
    "\n",
    "# "
   ]
  },
  {
   "cell_type": "code",
   "execution_count": 2,
   "metadata": {},
   "outputs": [],
   "source": [
    "spark= SparkSession.builder.appName(\"Datos_defunciones\").getOrCreate()"
   ]
  },
  {
   "cell_type": "code",
   "execution_count": 3,
   "metadata": {},
   "outputs": [
    {
     "data": {
      "text/html": [
       "\n",
       "            <div>\n",
       "                <p><b>SparkSession - in-memory</b></p>\n",
       "                \n",
       "        <div>\n",
       "            <p><b>SparkContext</b></p>\n",
       "\n",
       "            <p><a href=\"http://DESKTOP-H75JDU6:4040\">Spark UI</a></p>\n",
       "\n",
       "            <dl>\n",
       "              <dt>Version</dt>\n",
       "                <dd><code>v3.5.3</code></dd>\n",
       "              <dt>Master</dt>\n",
       "                <dd><code>local[*]</code></dd>\n",
       "              <dt>AppName</dt>\n",
       "                <dd><code>Datos_defunciones</code></dd>\n",
       "            </dl>\n",
       "        </div>\n",
       "        \n",
       "            </div>\n",
       "        "
      ],
      "text/plain": [
       "<pyspark.sql.session.SparkSession at 0x19ad8dd6e70>"
      ]
     },
     "execution_count": 3,
     "metadata": {},
     "output_type": "execute_result"
    }
   ],
   "source": [
    "spark"
   ]
  },
  {
   "cell_type": "code",
   "execution_count": 4,
   "metadata": {},
   "outputs": [],
   "source": [
    "df=spark.read.csv(\"Datos_concatenados_no_convertidos.csv\", header=True, inferSchema=True)"
   ]
  },
  {
   "cell_type": "code",
   "execution_count": 5,
   "metadata": {},
   "outputs": [
    {
     "data": {
      "text/plain": [
       "DataFrame[_c0: int, ent_regis: int, mun_regis: int, ent_resid: int, mun_resid: int, tloc_resid: int, ent_ocurr: int, mun_ocurr: int, causa_def: string, lista_mex: string, sexo: int, edad: int, dia_ocurr: int, mes_ocurr: int, anio_ocur: int, mes_regis: int, anio_regis: int, dia_nacim: int, mes_nacim: int, anio_nacim: int, ocupacion: int, escolarida: int, edo_civil: int, presunto: double, ocurr_trab: int, lugar_ocur: int, necropsia: int, asist_medi: int, sitio_ocur: int, cond_cert: int, cert_nomed: double, nacionalid: int, derechohab: int, embarazo: int, rel_emba: int, horas: int, minutos: int, capitulo: int, grupo: int, lista1: double, gr_lismex: string, vio_fami: double, edad_agru: int, maternas: string, dis_re_oax: int, tloc_ocurr: double, dia_regis: double, area_ur: double, complicaro: double, dia_cert: double, mes_cert: double, anio_cert: double, peso: double, lengua: double, cond_act: double, par_agre: double, ent_ocules: double, mun_ocules: double, loc_resid: double, loc_ocurr: double, loc_ocules: double, razon_m: double, loc_ocur: double, tloc_regis: double, loc_regis: double, cod_adicio: string, ent_nac: double, afromex: double, conindig: double, cve_lengua: double, nacesp_cve: double, sem_gest: double, gramos: double, tipo_defun: double, cirugia: double, natviole: double, usonecrops: double, encefalica: double, donador: double, id_inegi: string]"
      ]
     },
     "execution_count": 5,
     "metadata": {},
     "output_type": "execute_result"
    }
   ],
   "source": [
    "df"
   ]
  },
  {
   "cell_type": "code",
   "execution_count": 6,
   "metadata": {},
   "outputs": [
    {
     "name": "stdout",
     "output_type": "stream",
     "text": [
      "root\n",
      " |-- _c0: integer (nullable = true)\n",
      " |-- ent_regis: integer (nullable = true)\n",
      " |-- mun_regis: integer (nullable = true)\n",
      " |-- ent_resid: integer (nullable = true)\n",
      " |-- mun_resid: integer (nullable = true)\n",
      " |-- tloc_resid: integer (nullable = true)\n",
      " |-- ent_ocurr: integer (nullable = true)\n",
      " |-- mun_ocurr: integer (nullable = true)\n",
      " |-- causa_def: string (nullable = true)\n",
      " |-- lista_mex: string (nullable = true)\n",
      " |-- sexo: integer (nullable = true)\n",
      " |-- edad: integer (nullable = true)\n",
      " |-- dia_ocurr: integer (nullable = true)\n",
      " |-- mes_ocurr: integer (nullable = true)\n",
      " |-- anio_ocur: integer (nullable = true)\n",
      " |-- mes_regis: integer (nullable = true)\n",
      " |-- anio_regis: integer (nullable = true)\n",
      " |-- dia_nacim: integer (nullable = true)\n",
      " |-- mes_nacim: integer (nullable = true)\n",
      " |-- anio_nacim: integer (nullable = true)\n",
      " |-- ocupacion: integer (nullable = true)\n",
      " |-- escolarida: integer (nullable = true)\n",
      " |-- edo_civil: integer (nullable = true)\n",
      " |-- presunto: double (nullable = true)\n",
      " |-- ocurr_trab: integer (nullable = true)\n",
      " |-- lugar_ocur: integer (nullable = true)\n",
      " |-- necropsia: integer (nullable = true)\n",
      " |-- asist_medi: integer (nullable = true)\n",
      " |-- sitio_ocur: integer (nullable = true)\n",
      " |-- cond_cert: integer (nullable = true)\n",
      " |-- cert_nomed: double (nullable = true)\n",
      " |-- nacionalid: integer (nullable = true)\n",
      " |-- derechohab: integer (nullable = true)\n",
      " |-- embarazo: integer (nullable = true)\n",
      " |-- rel_emba: integer (nullable = true)\n",
      " |-- horas: integer (nullable = true)\n",
      " |-- minutos: integer (nullable = true)\n",
      " |-- capitulo: integer (nullable = true)\n",
      " |-- grupo: integer (nullable = true)\n",
      " |-- lista1: double (nullable = true)\n",
      " |-- gr_lismex: string (nullable = true)\n",
      " |-- vio_fami: double (nullable = true)\n",
      " |-- edad_agru: integer (nullable = true)\n",
      " |-- maternas: string (nullable = true)\n",
      " |-- dis_re_oax: integer (nullable = true)\n",
      " |-- tloc_ocurr: double (nullable = true)\n",
      " |-- dia_regis: double (nullable = true)\n",
      " |-- area_ur: double (nullable = true)\n",
      " |-- complicaro: double (nullable = true)\n",
      " |-- dia_cert: double (nullable = true)\n",
      " |-- mes_cert: double (nullable = true)\n",
      " |-- anio_cert: double (nullable = true)\n",
      " |-- peso: double (nullable = true)\n",
      " |-- lengua: double (nullable = true)\n",
      " |-- cond_act: double (nullable = true)\n",
      " |-- par_agre: double (nullable = true)\n",
      " |-- ent_ocules: double (nullable = true)\n",
      " |-- mun_ocules: double (nullable = true)\n",
      " |-- loc_resid: double (nullable = true)\n",
      " |-- loc_ocurr: double (nullable = true)\n",
      " |-- loc_ocules: double (nullable = true)\n",
      " |-- razon_m: double (nullable = true)\n",
      " |-- loc_ocur: double (nullable = true)\n",
      " |-- tloc_regis: double (nullable = true)\n",
      " |-- loc_regis: double (nullable = true)\n",
      " |-- cod_adicio: string (nullable = true)\n",
      " |-- ent_nac: double (nullable = true)\n",
      " |-- afromex: double (nullable = true)\n",
      " |-- conindig: double (nullable = true)\n",
      " |-- cve_lengua: double (nullable = true)\n",
      " |-- nacesp_cve: double (nullable = true)\n",
      " |-- sem_gest: double (nullable = true)\n",
      " |-- gramos: double (nullable = true)\n",
      " |-- tipo_defun: double (nullable = true)\n",
      " |-- cirugia: double (nullable = true)\n",
      " |-- natviole: double (nullable = true)\n",
      " |-- usonecrops: double (nullable = true)\n",
      " |-- encefalica: double (nullable = true)\n",
      " |-- donador: double (nullable = true)\n",
      " |-- id_inegi: string (nullable = true)\n",
      "\n"
     ]
    }
   ],
   "source": [
    "df.printSchema()"
   ]
  },
  {
   "cell_type": "code",
   "execution_count": 7,
   "metadata": {},
   "outputs": [
    {
     "name": "stdout",
     "output_type": "stream",
     "text": [
      "+---+---------+---------+---------+---------+----------+---------+---------+---------+---------+----+----+---------+---------+---------+---------+----------+---------+---------+----------+---------+----------+---------+--------+----------+----------+---------+----------+----------+---------+----------+----------+----------+--------+--------+-----+-------+--------+-----+------+---------+--------+---------+--------+----------+----------+---------+-------+----------+--------+--------+---------+----+------+--------+--------+----------+----------+---------+---------+----------+-------+--------+----------+---------+----------+-------+-------+--------+----------+----------+--------+------+----------+-------+--------+----------+----------+-------+--------+\n",
      "|_c0|ent_regis|mun_regis|ent_resid|mun_resid|tloc_resid|ent_ocurr|mun_ocurr|causa_def|lista_mex|sexo|edad|dia_ocurr|mes_ocurr|anio_ocur|mes_regis|anio_regis|dia_nacim|mes_nacim|anio_nacim|ocupacion|escolarida|edo_civil|presunto|ocurr_trab|lugar_ocur|necropsia|asist_medi|sitio_ocur|cond_cert|cert_nomed|nacionalid|derechohab|embarazo|rel_emba|horas|minutos|capitulo|grupo|lista1|gr_lismex|vio_fami|edad_agru|maternas|dis_re_oax|tloc_ocurr|dia_regis|area_ur|complicaro|dia_cert|mes_cert|anio_cert|peso|lengua|cond_act|par_agre|ent_ocules|mun_ocules|loc_resid|loc_ocurr|loc_ocules|razon_m|loc_ocur|tloc_regis|loc_regis|cod_adicio|ent_nac|afromex|conindig|cve_lengua|nacesp_cve|sem_gest|gramos|tipo_defun|cirugia|natviole|usonecrops|encefalica|donador|id_inegi|\n",
      "+---+---------+---------+---------+---------+----------+---------+---------+---------+---------+----+----+---------+---------+---------+---------+----------+---------+---------+----------+---------+----------+---------+--------+----------+----------+---------+----------+----------+---------+----------+----------+----------+--------+--------+-----+-------+--------+-----+------+---------+--------+---------+--------+----------+----------+---------+-------+----------+--------+--------+---------+----+------+--------+--------+----------+----------+---------+---------+----------+-------+--------+----------+---------+----------+-------+-------+--------+----------+----------+--------+------+----------+-------+--------+----------+----------+-------+--------+\n",
      "|  0|        1|       10|        1|        1|        14|        1|        1|     A419|      03I|   2|4090|        5|        1|     2000|        1|      2000|       99|       99|      1910|        2|         3|        2|     9.0|         9|         9|        9|         1|         3|        2|       9.0|         1|         1|       9|       9|   10|     30|       1|    4|  12.0|       03|     9.0|       23|    NULL|       999|      NULL|     NULL|   NULL|      NULL|    NULL|    NULL|     NULL|NULL|  NULL|    NULL|    NULL|      NULL|      NULL|     NULL|     NULL|      NULL|   NULL|    NULL|      NULL|     NULL|      NULL|   NULL|   NULL|    NULL|      NULL|      NULL|    NULL|  NULL|      NULL|   NULL|    NULL|      NULL|      NULL|   NULL|    NULL|\n",
      "|  1|        1|        1|        1|        1|        14|        1|        1|     P369|      46G|   2|2018|       99|        1|     2000|        1|      2000|       99|       99|      1999|       98|         9|        9|     9.0|         9|         9|        9|         1|         1|        1|       9.0|         1|         2|       9|       9|   18|     30|      16|    5|  92.0|       46|     9.0|        1|    NULL|       999|      NULL|     NULL|   NULL|      NULL|    NULL|    NULL|     NULL|NULL|  NULL|    NULL|    NULL|      NULL|      NULL|     NULL|     NULL|      NULL|   NULL|    NULL|      NULL|     NULL|      NULL|   NULL|   NULL|    NULL|      NULL|      NULL|    NULL|  NULL|      NULL|   NULL|    NULL|      NULL|      NULL|   NULL|    NULL|\n",
      "|  2|        1|        1|        1|        1|        14|        1|        1|     X594|      51Z|   2|4998|        1|        1|     2000|        1|      2000|       99|       99|      9999|        2|         1|        6|     1.0|         2|         3|        1|         2|         4|        3|       9.0|         1|         1|       9|       9|   20|      0|      20|   25| 103.0|      E51|     9.0|       30|    NULL|       999|      NULL|     NULL|   NULL|      NULL|    NULL|    NULL|     NULL|NULL|  NULL|    NULL|    NULL|      NULL|      NULL|     NULL|     NULL|      NULL|   NULL|    NULL|      NULL|     NULL|      NULL|   NULL|   NULL|    NULL|      NULL|      NULL|    NULL|  NULL|      NULL|   NULL|    NULL|      NULL|      NULL|   NULL|    NULL|\n",
      "|  3|        1|        1|        1|        1|        14|        1|        1|     I219|      28A|   2|4998|        1|        1|     2000|        1|      2000|       99|       99|      9999|        2|         9|        6|     9.0|         9|         9|        9|         1|         3|        1|       9.0|         1|        99|       9|       9|   17|      0|       9|    4|  67.0|       28|     9.0|       30|    NULL|       999|      NULL|     NULL|   NULL|      NULL|    NULL|    NULL|     NULL|NULL|  NULL|    NULL|    NULL|      NULL|      NULL|     NULL|     NULL|      NULL|   NULL|    NULL|      NULL|     NULL|      NULL|   NULL|   NULL|    NULL|      NULL|      NULL|    NULL|  NULL|      NULL|   NULL|    NULL|      NULL|      NULL|   NULL|    NULL|\n",
      "|  4|        1|        1|        1|        1|        14|        1|        1|     E122|      20D|   2|4078|        2|        1|     2000|        1|      2000|       99|       99|      1922|        2|         4|        6|     9.0|         9|         9|        9|         1|         1|        2|       9.0|         1|         2|       9|       9|   12|     10|       4|    2|  52.0|       20|     9.0|       20|    NULL|       999|      NULL|     NULL|   NULL|      NULL|    NULL|    NULL|     NULL|NULL|  NULL|    NULL|    NULL|      NULL|      NULL|     NULL|     NULL|      NULL|   NULL|    NULL|      NULL|     NULL|      NULL|   NULL|   NULL|    NULL|      NULL|      NULL|    NULL|  NULL|      NULL|   NULL|    NULL|      NULL|      NULL|   NULL|    NULL|\n",
      "|  5|        1|        1|        1|        1|        14|        1|        1|     J90X|      33J|   1|4051|       29|        1|     2000|        1|      2000|       99|       99|      1949|       11|         7|        2|     9.0|         9|         9|        9|         1|         2|        1|       9.0|         1|         3|       9|       9|   18|      0|      10|    9|  77.0|       33|     9.0|       15|    NULL|       999|      NULL|     NULL|   NULL|      NULL|    NULL|    NULL|     NULL|NULL|  NULL|    NULL|    NULL|      NULL|      NULL|     NULL|     NULL|      NULL|   NULL|    NULL|      NULL|     NULL|      NULL|   NULL|   NULL|    NULL|      NULL|      NULL|    NULL|  NULL|      NULL|   NULL|    NULL|      NULL|      NULL|   NULL|    NULL|\n",
      "|  6|        1|        1|        1|        1|        14|        1|        1|     K254|      35D|   1|4078|        1|        1|     2000|        1|      2000|       99|       99|      1922|        2|         4|        2|     9.0|         9|         9|        9|         2|         3|        2|       9.0|         1|         2|       9|       9|    2|      0|      11|    2|  79.0|       35|     9.0|       20|    NULL|       999|      NULL|     NULL|   NULL|      NULL|    NULL|    NULL|     NULL|NULL|  NULL|    NULL|    NULL|      NULL|      NULL|     NULL|     NULL|      NULL|   NULL|    NULL|      NULL|     NULL|      NULL|   NULL|   NULL|    NULL|      NULL|      NULL|    NULL|  NULL|      NULL|   NULL|    NULL|      NULL|      NULL|   NULL|    NULL|\n",
      "|  7|        1|        1|        1|        1|        14|        1|        1|     Q249|      47E|   1|3002|        1|        1|     2000|        1|      2000|       99|        1|      2000|       98|         9|        9|     9.0|         9|         9|        9|         1|         1|        1|       9.0|         1|         2|       9|       9|   99|     99|      17|    3|  93.0|       47|     9.0|        1|    NULL|       999|      NULL|     NULL|   NULL|      NULL|    NULL|    NULL|     NULL|NULL|  NULL|    NULL|    NULL|      NULL|      NULL|     NULL|     NULL|      NULL|   NULL|    NULL|      NULL|     NULL|      NULL|   NULL|   NULL|    NULL|      NULL|      NULL|    NULL|  NULL|      NULL|   NULL|    NULL|      NULL|      NULL|   NULL|    NULL|\n",
      "|  8|        1|        1|        1|        1|        14|        1|        1|     C509|      11D|   2|4082|       19|        1|     2000|        1|      2000|       99|       99|      1918|        2|         6|        1|     9.0|         9|         9|        9|         1|         3|        1|       9.0|         1|         1|       9|       9|    2|      0|       2|    7|  36.0|       11|     9.0|       21|    NULL|       999|      NULL|     NULL|   NULL|      NULL|    NULL|    NULL|     NULL|NULL|  NULL|    NULL|    NULL|      NULL|      NULL|     NULL|     NULL|      NULL|   NULL|    NULL|      NULL|     NULL|      NULL|   NULL|   NULL|    NULL|      NULL|      NULL|    NULL|  NULL|      NULL|   NULL|    NULL|      NULL|      NULL|   NULL|    NULL|\n",
      "|  9|        1|        1|        1|        1|        14|        1|        1|     C169|      09B|   1|4098|       11|        1|     2000|        1|      2000|       99|       99|      1902|       71|         2|        2|     9.0|         9|         9|        9|         1|         3|        1|       9.0|         1|         1|       9|       9|   18|     45|       2|    2|  29.0|       09|     9.0|       24|    NULL|       999|      NULL|     NULL|   NULL|      NULL|    NULL|    NULL|     NULL|NULL|  NULL|    NULL|    NULL|      NULL|      NULL|     NULL|     NULL|      NULL|   NULL|    NULL|      NULL|     NULL|      NULL|   NULL|   NULL|    NULL|      NULL|      NULL|    NULL|  NULL|      NULL|   NULL|    NULL|      NULL|      NULL|   NULL|    NULL|\n",
      "| 10|        1|        1|        1|        1|        14|        1|        1|     I269|      29A|   1|4073|       11|        1|     2000|        1|      2000|       99|       99|      1927|       52|         1|        2|     9.0|         9|         9|        9|         2|         3|        3|       9.0|         1|         2|       9|       9|    1|      0|       9|    5|  68.0|       29|     9.0|       19|    NULL|       999|      NULL|     NULL|   NULL|      NULL|    NULL|    NULL|     NULL|NULL|  NULL|    NULL|    NULL|      NULL|      NULL|     NULL|     NULL|      NULL|   NULL|    NULL|      NULL|     NULL|      NULL|   NULL|   NULL|    NULL|      NULL|      NULL|    NULL|  NULL|      NULL|   NULL|    NULL|      NULL|      NULL|   NULL|    NULL|\n",
      "| 11|        1|        1|        1|        1|        14|        1|        1|     K709|      35L|   2|4060|       31|       12|     1999|        1|      2000|       99|       99|      1939|        2|         1|        6|     9.0|         9|         9|        9|         1|         1|        2|       9.0|         1|         1|       9|       9|    9|     30|      11|    8|  80.0|       35|     9.0|       17|    NULL|       999|      NULL|     NULL|   NULL|      NULL|    NULL|    NULL|     NULL|NULL|  NULL|    NULL|    NULL|      NULL|      NULL|     NULL|     NULL|      NULL|   NULL|    NULL|      NULL|     NULL|      NULL|   NULL|   NULL|    NULL|      NULL|      NULL|    NULL|  NULL|      NULL|   NULL|    NULL|      NULL|      NULL|   NULL|    NULL|\n",
      "| 12|        1|        1|        1|        1|        14|        1|        1|     X594|      51Z|   1|4019|       29|        1|     2000|        1|      2000|       99|       99|      1981|       62|         5|        1|     1.0|         2|         3|        1|         1|         1|        3|       9.0|         1|         2|       9|       9|   14|     15|      20|   25| 103.0|      E51|     9.0|        8|    NULL|       999|      NULL|     NULL|   NULL|      NULL|    NULL|    NULL|     NULL|NULL|  NULL|    NULL|    NULL|      NULL|      NULL|     NULL|     NULL|      NULL|   NULL|    NULL|      NULL|     NULL|      NULL|   NULL|   NULL|    NULL|      NULL|      NULL|    NULL|  NULL|      NULL|   NULL|    NULL|      NULL|      NULL|   NULL|    NULL|\n",
      "| 13|        1|        1|       14|       32|         1|        1|        1|     P220|      46F|   1|2005|       99|        1|     2000|        1|      2000|       99|       99|      1999|       98|         9|        9|     9.0|         9|         9|        9|         1|         1|        1|       9.0|         1|         2|       9|       9|   22|     30|      16|    4|  92.0|       46|     9.0|        1|    NULL|       999|      NULL|     NULL|   NULL|      NULL|    NULL|    NULL|     NULL|NULL|  NULL|    NULL|    NULL|      NULL|      NULL|     NULL|     NULL|      NULL|   NULL|    NULL|      NULL|     NULL|      NULL|   NULL|   NULL|    NULL|      NULL|      NULL|    NULL|  NULL|      NULL|   NULL|    NULL|      NULL|      NULL|   NULL|    NULL|\n",
      "| 14|        1|        1|        1|        1|        14|        1|        1|     E147|      20D|   1|4075|       31|       12|     1999|        1|      2000|       21|        3|      1924|       52|         2|        6|     9.0|         9|         9|        9|         1|         1|        2|       9.0|         1|         2|       9|       9|   17|     55|       4|    2|  52.0|       20|     9.0|       20|    NULL|       999|      NULL|     NULL|   NULL|      NULL|    NULL|    NULL|     NULL|NULL|  NULL|    NULL|    NULL|      NULL|      NULL|     NULL|     NULL|      NULL|   NULL|    NULL|      NULL|     NULL|      NULL|   NULL|   NULL|    NULL|      NULL|      NULL|    NULL|  NULL|      NULL|   NULL|    NULL|      NULL|      NULL|   NULL|    NULL|\n",
      "| 15|        1|        1|        1|        1|        14|        1|        1|     X700|       54|   2|4021|        2|        1|     2000|        1|      2000|       99|       99|      1979|        2|         6|        1|     3.0|         2|         1|        1|         9|         3|        3|       9.0|         1|         1|       9|       9|   11|     50|      20|   26| 101.0|      E54|     9.0|        9|    NULL|       999|      NULL|     NULL|   NULL|      NULL|    NULL|    NULL|     NULL|NULL|  NULL|    NULL|    NULL|      NULL|      NULL|     NULL|     NULL|      NULL|   NULL|    NULL|      NULL|     NULL|      NULL|   NULL|   NULL|    NULL|      NULL|      NULL|    NULL|  NULL|      NULL|   NULL|    NULL|      NULL|      NULL|   NULL|    NULL|\n",
      "| 16|        1|        1|        1|        1|        14|        1|        1|     C23X|      09Z|   2|4081|       13|        1|     2000|        1|      2000|       99|        1|      1919|        2|         2|        6|     9.0|         9|         9|        9|         1|         3|        1|       9.0|         1|         3|       9|       9|    5|     40|       2|    2|  46.0|       09|     9.0|       21|    NULL|       999|      NULL|     NULL|   NULL|      NULL|    NULL|    NULL|     NULL|NULL|  NULL|    NULL|    NULL|      NULL|      NULL|     NULL|     NULL|      NULL|   NULL|    NULL|      NULL|     NULL|      NULL|   NULL|   NULL|    NULL|      NULL|      NULL|    NULL|  NULL|      NULL|   NULL|    NULL|      NULL|      NULL|   NULL|    NULL|\n",
      "| 17|        1|        1|        1|        1|        14|        1|        1|     J180|      33B|   2|3002|       30|       12|     1999|        1|      2000|        5|       10|      1999|       98|         9|        9|     9.0|         9|         9|        9|         1|         3|        1|       9.0|         1|         2|       9|       9|    7|      0|      10|    2|  74.0|       33|     9.0|        1|    NULL|       999|      NULL|     NULL|   NULL|      NULL|    NULL|    NULL|     NULL|NULL|  NULL|    NULL|    NULL|      NULL|      NULL|     NULL|     NULL|      NULL|   NULL|    NULL|      NULL|     NULL|      NULL|   NULL|   NULL|    NULL|      NULL|      NULL|    NULL|  NULL|      NULL|   NULL|    NULL|      NULL|      NULL|   NULL|    NULL|\n",
      "| 18|        1|        1|        1|        1|        14|        1|        1|     E117|      20D|   2|4075|       12|        1|     2000|        1|      2000|       99|       99|      1925|        2|         6|        6|     9.0|         9|         9|        9|         1|         1|        2|       9.0|         1|         2|       9|       9|    9|     20|       4|    2|  52.0|       20|     9.0|       20|    NULL|       999|      NULL|     NULL|   NULL|      NULL|    NULL|    NULL|     NULL|NULL|  NULL|    NULL|    NULL|      NULL|      NULL|     NULL|     NULL|      NULL|   NULL|    NULL|      NULL|     NULL|      NULL|   NULL|   NULL|    NULL|      NULL|      NULL|    NULL|  NULL|      NULL|   NULL|    NULL|      NULL|      NULL|   NULL|    NULL|\n",
      "| 19|        1|        1|        1|        1|        14|        1|        1|     R99X|      48Z|   2|4101|        2|        1|     2000|        1|      2000|       99|       99|      9999|        2|         6|        6|     9.0|         9|         9|        9|         1|         1|        1|       9.0|         1|         2|       9|       9|   21|     30|      18|   13|  94.0|       48|     9.0|       25|    NULL|       999|      NULL|     NULL|   NULL|      NULL|    NULL|    NULL|     NULL|NULL|  NULL|    NULL|    NULL|      NULL|      NULL|     NULL|     NULL|      NULL|   NULL|    NULL|      NULL|     NULL|      NULL|   NULL|   NULL|    NULL|      NULL|      NULL|    NULL|  NULL|      NULL|   NULL|    NULL|      NULL|      NULL|   NULL|    NULL|\n",
      "+---+---------+---------+---------+---------+----------+---------+---------+---------+---------+----+----+---------+---------+---------+---------+----------+---------+---------+----------+---------+----------+---------+--------+----------+----------+---------+----------+----------+---------+----------+----------+----------+--------+--------+-----+-------+--------+-----+------+---------+--------+---------+--------+----------+----------+---------+-------+----------+--------+--------+---------+----+------+--------+--------+----------+----------+---------+---------+----------+-------+--------+----------+---------+----------+-------+-------+--------+----------+----------+--------+------+----------+-------+--------+----------+----------+-------+--------+\n",
      "only showing top 20 rows\n",
      "\n"
     ]
    }
   ],
   "source": [
    "df.show()"
   ]
  },
  {
   "cell_type": "code",
   "execution_count": 8,
   "metadata": {},
   "outputs": [
    {
     "data": {
      "text/plain": [
       "14508281"
      ]
     },
     "execution_count": 8,
     "metadata": {},
     "output_type": "execute_result"
    }
   ],
   "source": [
    "df.count()"
   ]
  },
  {
   "cell_type": "code",
   "execution_count": 9,
   "metadata": {},
   "outputs": [],
   "source": [
    "from pyspark.ml.feature import StringIndexer"
   ]
  },
  {
   "cell_type": "code",
   "execution_count": 10,
   "metadata": {},
   "outputs": [],
   "source": [
    "indexer = StringIndexer(inputCol = \"causa_def\", outputCol = \"def_indexada\")\n",
    "df_indexado = indexer.fit(df).transform(df)"
   ]
  },
  {
   "cell_type": "code",
   "execution_count": 11,
   "metadata": {},
   "outputs": [],
   "source": [
    "indexer = StringIndexer(inputCol = \"lista_mex\", outputCol = \"lista_mex_indexada\")\n",
    "df_indexado = indexer.fit(df_indexado).transform(df_indexado)"
   ]
  },
  {
   "cell_type": "code",
   "execution_count": 12,
   "metadata": {},
   "outputs": [
    {
     "name": "stdout",
     "output_type": "stream",
     "text": [
      "+---+---------+---------+---------+---------+----------+---------+---------+---------+---------+----+----+---------+---------+---------+---------+----------+---------+---------+----------+---------+----------+---------+--------+----------+----------+---------+----------+----------+---------+----------+----------+----------+--------+--------+-----+-------+--------+-----+------+---------+--------+---------+--------+----------+----------+---------+-------+----------+--------+--------+---------+----+------+--------+--------+----------+----------+---------+---------+----------+-------+--------+----------+---------+----------+-------+-------+--------+----------+----------+--------+------+----------+-------+--------+----------+----------+-------+--------+------------+------------------+\n",
      "|_c0|ent_regis|mun_regis|ent_resid|mun_resid|tloc_resid|ent_ocurr|mun_ocurr|causa_def|lista_mex|sexo|edad|dia_ocurr|mes_ocurr|anio_ocur|mes_regis|anio_regis|dia_nacim|mes_nacim|anio_nacim|ocupacion|escolarida|edo_civil|presunto|ocurr_trab|lugar_ocur|necropsia|asist_medi|sitio_ocur|cond_cert|cert_nomed|nacionalid|derechohab|embarazo|rel_emba|horas|minutos|capitulo|grupo|lista1|gr_lismex|vio_fami|edad_agru|maternas|dis_re_oax|tloc_ocurr|dia_regis|area_ur|complicaro|dia_cert|mes_cert|anio_cert|peso|lengua|cond_act|par_agre|ent_ocules|mun_ocules|loc_resid|loc_ocurr|loc_ocules|razon_m|loc_ocur|tloc_regis|loc_regis|cod_adicio|ent_nac|afromex|conindig|cve_lengua|nacesp_cve|sem_gest|gramos|tipo_defun|cirugia|natviole|usonecrops|encefalica|donador|id_inegi|def_indexada|lista_mex_indexada|\n",
      "+---+---------+---------+---------+---------+----------+---------+---------+---------+---------+----+----+---------+---------+---------+---------+----------+---------+---------+----------+---------+----------+---------+--------+----------+----------+---------+----------+----------+---------+----------+----------+----------+--------+--------+-----+-------+--------+-----+------+---------+--------+---------+--------+----------+----------+---------+-------+----------+--------+--------+---------+----+------+--------+--------+----------+----------+---------+---------+----------+-------+--------+----------+---------+----------+-------+-------+--------+----------+----------+--------+------+----------+-------+--------+----------+----------+-------+--------+------------+------------------+\n",
      "|  0|        1|       10|        1|        1|        14|        1|        1|     A419|      03I|   2|4090|        5|        1|     2000|        1|      2000|       99|       99|      1910|        2|         3|        2|     9.0|         9|         9|        9|         1|         3|        2|       9.0|         1|         1|       9|       9|   10|     30|       1|    4|  12.0|       03|     9.0|       23|    NULL|       999|      NULL|     NULL|   NULL|      NULL|    NULL|    NULL|     NULL|NULL|  NULL|    NULL|    NULL|      NULL|      NULL|     NULL|     NULL|      NULL|   NULL|    NULL|      NULL|     NULL|      NULL|   NULL|   NULL|    NULL|      NULL|      NULL|    NULL|  NULL|      NULL|   NULL|    NULL|      NULL|      NULL|   NULL|    NULL|        29.0|              35.0|\n",
      "|  1|        1|        1|        1|        1|        14|        1|        1|     P369|      46G|   2|2018|       99|        1|     2000|        1|      2000|       99|       99|      1999|       98|         9|        9|     9.0|         9|         9|        9|         1|         1|        1|       9.0|         1|         2|       9|       9|   18|     30|      16|    5|  92.0|       46|     9.0|        1|    NULL|       999|      NULL|     NULL|   NULL|      NULL|    NULL|    NULL|     NULL|NULL|  NULL|    NULL|    NULL|      NULL|      NULL|     NULL|     NULL|      NULL|   NULL|    NULL|      NULL|     NULL|      NULL|   NULL|   NULL|    NULL|      NULL|      NULL|    NULL|  NULL|      NULL|   NULL|    NULL|      NULL|      NULL|   NULL|    NULL|        52.0|              51.0|\n",
      "|  2|        1|        1|        1|        1|        14|        1|        1|     X594|      51Z|   2|4998|        1|        1|     2000|        1|      2000|       99|       99|      9999|        2|         1|        6|     1.0|         2|         3|        1|         2|         4|        3|       9.0|         1|         1|       9|       9|   20|      0|      20|   25| 103.0|      E51|     9.0|       30|    NULL|       999|      NULL|     NULL|   NULL|      NULL|    NULL|    NULL|     NULL|NULL|  NULL|    NULL|    NULL|      NULL|      NULL|     NULL|     NULL|      NULL|   NULL|    NULL|      NULL|     NULL|      NULL|   NULL|   NULL|    NULL|      NULL|      NULL|    NULL|  NULL|      NULL|   NULL|    NULL|      NULL|      NULL|   NULL|    NULL|       174.0|              10.0|\n",
      "|  3|        1|        1|        1|        1|        14|        1|        1|     I219|      28A|   2|4998|        1|        1|     2000|        1|      2000|       99|       99|      9999|        2|         9|        6|     9.0|         9|         9|        9|         1|         3|        1|       9.0|         1|        99|       9|       9|   17|      0|       9|    4|  67.0|       28|     9.0|       30|    NULL|       999|      NULL|     NULL|   NULL|      NULL|    NULL|    NULL|     NULL|NULL|  NULL|    NULL|    NULL|      NULL|      NULL|     NULL|     NULL|      NULL|   NULL|    NULL|      NULL|     NULL|      NULL|   NULL|   NULL|    NULL|      NULL|      NULL|    NULL|  NULL|      NULL|   NULL|    NULL|      NULL|      NULL|   NULL|    NULL|         0.0|               1.0|\n",
      "|  4|        1|        1|        1|        1|        14|        1|        1|     E122|      20D|   2|4078|        2|        1|     2000|        1|      2000|       99|       99|      1922|        2|         4|        6|     9.0|         9|         9|        9|         1|         1|        2|       9.0|         1|         2|       9|       9|   12|     10|       4|    2|  52.0|       20|     9.0|       20|    NULL|       999|      NULL|     NULL|   NULL|      NULL|    NULL|    NULL|     NULL|NULL|  NULL|    NULL|    NULL|      NULL|      NULL|     NULL|     NULL|      NULL|   NULL|    NULL|      NULL|     NULL|      NULL|   NULL|   NULL|    NULL|      NULL|      NULL|    NULL|  NULL|      NULL|   NULL|    NULL|      NULL|      NULL|   NULL|    NULL|       195.0|               0.0|\n",
      "|  5|        1|        1|        1|        1|        14|        1|        1|     J90X|      33J|   1|4051|       29|        1|     2000|        1|      2000|       99|       99|      1949|       11|         7|        2|     9.0|         9|         9|        9|         1|         2|        1|       9.0|         1|         3|       9|       9|   18|      0|      10|    9|  77.0|       33|     9.0|       15|    NULL|       999|      NULL|     NULL|   NULL|      NULL|    NULL|    NULL|     NULL|NULL|  NULL|    NULL|    NULL|      NULL|      NULL|     NULL|     NULL|      NULL|   NULL|    NULL|      NULL|     NULL|      NULL|   NULL|   NULL|    NULL|      NULL|      NULL|    NULL|  NULL|      NULL|   NULL|    NULL|      NULL|      NULL|   NULL|    NULL|       240.0|             119.0|\n",
      "|  6|        1|        1|        1|        1|        14|        1|        1|     K254|      35D|   1|4078|        1|        1|     2000|        1|      2000|       99|       99|      1922|        2|         4|        2|     9.0|         9|         9|        9|         2|         3|        2|       9.0|         1|         2|       9|       9|    2|      0|      11|    2|  79.0|       35|     9.0|       20|    NULL|       999|      NULL|     NULL|   NULL|      NULL|    NULL|    NULL|     NULL|NULL|  NULL|    NULL|    NULL|      NULL|      NULL|     NULL|     NULL|      NULL|   NULL|    NULL|      NULL|     NULL|      NULL|   NULL|   NULL|    NULL|      NULL|      NULL|    NULL|  NULL|      NULL|   NULL|    NULL|      NULL|      NULL|   NULL|    NULL|       124.0|              52.0|\n",
      "|  7|        1|        1|        1|        1|        14|        1|        1|     Q249|      47E|   1|3002|        1|        1|     2000|        1|      2000|       99|        1|      2000|       98|         9|        9|     9.0|         9|         9|        9|         1|         1|        1|       9.0|         1|         2|       9|       9|   99|     99|      17|    3|  93.0|       47|     9.0|        1|    NULL|       999|      NULL|     NULL|   NULL|      NULL|    NULL|    NULL|     NULL|NULL|  NULL|    NULL|    NULL|      NULL|      NULL|     NULL|     NULL|      NULL|   NULL|    NULL|      NULL|     NULL|      NULL|   NULL|   NULL|    NULL|      NULL|      NULL|    NULL|  NULL|      NULL|   NULL|    NULL|      NULL|      NULL|   NULL|    NULL|        51.0|              32.0|\n",
      "|  8|        1|        1|        1|        1|        14|        1|        1|     C509|      11D|   2|4082|       19|        1|     2000|        1|      2000|       99|       99|      1918|        2|         6|        1|     9.0|         9|         9|        9|         1|         3|        1|       9.0|         1|         1|       9|       9|    2|      0|       2|    7|  36.0|       11|     9.0|       21|    NULL|       999|      NULL|     NULL|   NULL|      NULL|    NULL|    NULL|     NULL|NULL|  NULL|    NULL|    NULL|      NULL|      NULL|     NULL|     NULL|      NULL|   NULL|    NULL|      NULL|     NULL|      NULL|   NULL|   NULL|    NULL|      NULL|      NULL|    NULL|  NULL|      NULL|   NULL|    NULL|      NULL|      NULL|   NULL|    NULL|        20.0|              28.0|\n",
      "|  9|        1|        1|        1|        1|        14|        1|        1|     C169|      09B|   1|4098|       11|        1|     2000|        1|      2000|       99|       99|      1902|       71|         2|        2|     9.0|         9|         9|        9|         1|         3|        1|       9.0|         1|         1|       9|       9|   18|     45|       2|    2|  29.0|       09|     9.0|       24|    NULL|       999|      NULL|     NULL|   NULL|      NULL|    NULL|    NULL|     NULL|NULL|  NULL|    NULL|    NULL|      NULL|      NULL|     NULL|     NULL|      NULL|   NULL|    NULL|      NULL|     NULL|      NULL|   NULL|   NULL|    NULL|      NULL|      NULL|    NULL|  NULL|      NULL|   NULL|    NULL|      NULL|      NULL|   NULL|    NULL|        21.0|              25.0|\n",
      "| 10|        1|        1|        1|        1|        14|        1|        1|     I269|      29A|   1|4073|       11|        1|     2000|        1|      2000|       99|       99|      1927|       52|         1|        2|     9.0|         9|         9|        9|         2|         3|        3|       9.0|         1|         2|       9|       9|    1|      0|       9|    5|  68.0|       29|     9.0|       19|    NULL|       999|      NULL|     NULL|   NULL|      NULL|    NULL|    NULL|     NULL|NULL|  NULL|    NULL|    NULL|      NULL|      NULL|     NULL|     NULL|      NULL|   NULL|    NULL|      NULL|     NULL|      NULL|   NULL|   NULL|    NULL|      NULL|      NULL|    NULL|  NULL|      NULL|   NULL|    NULL|      NULL|      NULL|   NULL|    NULL|        78.0|              70.0|\n",
      "| 11|        1|        1|        1|        1|        14|        1|        1|     K709|      35L|   2|4060|       31|       12|     1999|        1|      2000|       99|       99|      1939|        2|         1|        6|     9.0|         9|         9|        9|         1|         1|        2|       9.0|         1|         1|       9|       9|    9|     30|      11|    8|  80.0|       35|     9.0|       17|    NULL|       999|      NULL|     NULL|   NULL|      NULL|    NULL|    NULL|     NULL|NULL|  NULL|    NULL|    NULL|      NULL|      NULL|     NULL|     NULL|      NULL|   NULL|    NULL|      NULL|     NULL|      NULL|   NULL|   NULL|    NULL|      NULL|      NULL|    NULL|  NULL|      NULL|   NULL|    NULL|      NULL|      NULL|   NULL|    NULL|       163.0|               8.0|\n",
      "| 12|        1|        1|        1|        1|        14|        1|        1|     X594|      51Z|   1|4019|       29|        1|     2000|        1|      2000|       99|       99|      1981|       62|         5|        1|     1.0|         2|         3|        1|         1|         1|        3|       9.0|         1|         2|       9|       9|   14|     15|      20|   25| 103.0|      E51|     9.0|        8|    NULL|       999|      NULL|     NULL|   NULL|      NULL|    NULL|    NULL|     NULL|NULL|  NULL|    NULL|    NULL|      NULL|      NULL|     NULL|     NULL|      NULL|   NULL|    NULL|      NULL|     NULL|      NULL|   NULL|   NULL|    NULL|      NULL|      NULL|    NULL|  NULL|      NULL|   NULL|    NULL|      NULL|      NULL|   NULL|    NULL|       174.0|              10.0|\n",
      "| 13|        1|        1|       14|       32|         1|        1|        1|     P220|      46F|   1|2005|       99|        1|     2000|        1|      2000|       99|       99|      1999|       98|         9|        9|     9.0|         9|         9|        9|         1|         1|        1|       9.0|         1|         2|       9|       9|   22|     30|      16|    4|  92.0|       46|     9.0|        1|    NULL|       999|      NULL|     NULL|   NULL|      NULL|    NULL|    NULL|     NULL|NULL|  NULL|    NULL|    NULL|      NULL|      NULL|     NULL|     NULL|      NULL|   NULL|    NULL|      NULL|     NULL|      NULL|   NULL|   NULL|    NULL|      NULL|      NULL|    NULL|  NULL|      NULL|   NULL|    NULL|      NULL|      NULL|   NULL|    NULL|        36.0|              18.0|\n",
      "| 14|        1|        1|        1|        1|        14|        1|        1|     E147|      20D|   1|4075|       31|       12|     1999|        1|      2000|       21|        3|      1924|       52|         2|        6|     9.0|         9|         9|        9|         1|         1|        2|       9.0|         1|         2|       9|       9|   17|     55|       4|    2|  52.0|       20|     9.0|       20|    NULL|       999|      NULL|     NULL|   NULL|      NULL|    NULL|    NULL|     NULL|NULL|  NULL|    NULL|    NULL|      NULL|      NULL|     NULL|     NULL|      NULL|   NULL|    NULL|      NULL|     NULL|      NULL|   NULL|   NULL|    NULL|      NULL|      NULL|    NULL|  NULL|      NULL|   NULL|    NULL|      NULL|      NULL|   NULL|    NULL|        31.0|               0.0|\n",
      "| 15|        1|        1|        1|        1|        14|        1|        1|     X700|       54|   2|4021|        2|        1|     2000|        1|      2000|       99|       99|      1979|        2|         6|        1|     3.0|         2|         1|        1|         9|         3|        3|       9.0|         1|         1|       9|       9|   11|     50|      20|   26| 101.0|      E54|     9.0|        9|    NULL|       999|      NULL|     NULL|   NULL|      NULL|    NULL|    NULL|     NULL|NULL|  NULL|    NULL|    NULL|      NULL|      NULL|     NULL|     NULL|      NULL|   NULL|    NULL|      NULL|     NULL|      NULL|   NULL|   NULL|    NULL|      NULL|      NULL|    NULL|  NULL|      NULL|   NULL|    NULL|      NULL|      NULL|   NULL|    NULL|        41.0|              27.0|\n",
      "| 16|        1|        1|        1|        1|        14|        1|        1|     C23X|      09Z|   2|4081|       13|        1|     2000|        1|      2000|       99|        1|      1919|        2|         2|        6|     9.0|         9|         9|        9|         1|         3|        1|       9.0|         1|         3|       9|       9|    5|     40|       2|    2|  46.0|       09|     9.0|       21|    NULL|       999|      NULL|     NULL|   NULL|      NULL|    NULL|    NULL|     NULL|NULL|  NULL|    NULL|    NULL|      NULL|      NULL|     NULL|     NULL|      NULL|   NULL|    NULL|      NULL|     NULL|      NULL|   NULL|   NULL|    NULL|      NULL|      NULL|    NULL|  NULL|      NULL|   NULL|    NULL|      NULL|      NULL|   NULL|    NULL|       127.0|              58.0|\n",
      "| 17|        1|        1|        1|        1|        14|        1|        1|     J180|      33B|   2|3002|       30|       12|     1999|        1|      2000|        5|       10|      1999|       98|         9|        9|     9.0|         9|         9|        9|         1|         3|        1|       9.0|         1|         2|       9|       9|    7|      0|      10|    2|  74.0|       33|     9.0|        1|    NULL|       999|      NULL|     NULL|   NULL|      NULL|    NULL|    NULL|     NULL|NULL|  NULL|    NULL|    NULL|      NULL|      NULL|     NULL|     NULL|      NULL|   NULL|    NULL|      NULL|     NULL|      NULL|   NULL|   NULL|    NULL|      NULL|      NULL|    NULL|  NULL|      NULL|   NULL|    NULL|      NULL|      NULL|   NULL|    NULL|        49.0|               4.0|\n",
      "| 18|        1|        1|        1|        1|        14|        1|        1|     E117|      20D|   2|4075|       12|        1|     2000|        1|      2000|       99|       99|      1925|        2|         6|        6|     9.0|         9|         9|        9|         1|         1|        2|       9.0|         1|         2|       9|       9|    9|     20|       4|    2|  52.0|       20|     9.0|       20|    NULL|       999|      NULL|     NULL|   NULL|      NULL|    NULL|    NULL|     NULL|NULL|  NULL|    NULL|    NULL|      NULL|      NULL|     NULL|     NULL|      NULL|   NULL|    NULL|      NULL|     NULL|      NULL|   NULL|   NULL|    NULL|      NULL|      NULL|    NULL|  NULL|      NULL|   NULL|    NULL|      NULL|      NULL|   NULL|    NULL|         9.0|               0.0|\n",
      "| 19|        1|        1|        1|        1|        14|        1|        1|     R99X|      48Z|   2|4101|        2|        1|     2000|        1|      2000|       99|       99|      9999|        2|         6|        6|     9.0|         9|         9|        9|         1|         1|        1|       9.0|         1|         2|       9|       9|   21|     30|      18|   13|  94.0|       48|     9.0|       25|    NULL|       999|      NULL|     NULL|   NULL|      NULL|    NULL|    NULL|     NULL|NULL|  NULL|    NULL|    NULL|      NULL|      NULL|     NULL|     NULL|      NULL|   NULL|    NULL|      NULL|     NULL|      NULL|   NULL|   NULL|    NULL|      NULL|      NULL|    NULL|  NULL|      NULL|   NULL|    NULL|      NULL|      NULL|   NULL|    NULL|        48.0|              23.0|\n",
      "+---+---------+---------+---------+---------+----------+---------+---------+---------+---------+----+----+---------+---------+---------+---------+----------+---------+---------+----------+---------+----------+---------+--------+----------+----------+---------+----------+----------+---------+----------+----------+----------+--------+--------+-----+-------+--------+-----+------+---------+--------+---------+--------+----------+----------+---------+-------+----------+--------+--------+---------+----+------+--------+--------+----------+----------+---------+---------+----------+-------+--------+----------+---------+----------+-------+-------+--------+----------+----------+--------+------+----------+-------+--------+----------+----------+-------+--------+------------+------------------+\n",
      "only showing top 20 rows\n",
      "\n"
     ]
    }
   ],
   "source": [
    "df_indexado.show()"
   ]
  },
  {
   "cell_type": "code",
   "execution_count": 13,
   "metadata": {},
   "outputs": [],
   "source": [
    "from pyspark.ml.feature import VectorAssembler, ChiSqSelector"
   ]
  },
  {
   "cell_type": "code",
   "execution_count": 14,
   "metadata": {},
   "outputs": [],
   "source": [
    "inputCols = [\n",
    "    'ent_regis',\n",
    "    'lista_mex_indexada',\n",
    "    'def_indexada',\n",
    "    'sexo',\n",
    "    'edad',\n",
    "    'ocupacion',\n",
    "    'escolarida',\n",
    "    'edo_civil',\n",
    "    'presunto',\n",
    "    'asist_medi',\n",
    "    'vio_fami'\n",
    "]"
   ]
  },
  {
   "cell_type": "code",
   "execution_count": 15,
   "metadata": {},
   "outputs": [
    {
     "name": "stdout",
     "output_type": "stream",
     "text": [
      "+---+---------+---------+---------+---------+----------+---------+---------+---------+---------+----+----+---------+---------+---------+---------+----------+---------+---------+----------+---------+----------+---------+--------+----------+----------+---------+----------+----------+---------+----------+----------+----------+--------+--------+-----+-------+--------+-----+------+---------+--------+---------+--------+----------+----------+---------+-------+----------+--------+--------+---------+----+------+--------+--------+----------+----------+---------+---------+----------+-------+--------+----------+---------+----------+-------+-------+--------+----------+----------+--------+------+----------+-------+--------+----------+----------+-------+--------+------------+------------------+\n",
      "|_c0|ent_regis|mun_regis|ent_resid|mun_resid|tloc_resid|ent_ocurr|mun_ocurr|causa_def|lista_mex|sexo|edad|dia_ocurr|mes_ocurr|anio_ocur|mes_regis|anio_regis|dia_nacim|mes_nacim|anio_nacim|ocupacion|escolarida|edo_civil|presunto|ocurr_trab|lugar_ocur|necropsia|asist_medi|sitio_ocur|cond_cert|cert_nomed|nacionalid|derechohab|embarazo|rel_emba|horas|minutos|capitulo|grupo|lista1|gr_lismex|vio_fami|edad_agru|maternas|dis_re_oax|tloc_ocurr|dia_regis|area_ur|complicaro|dia_cert|mes_cert|anio_cert|peso|lengua|cond_act|par_agre|ent_ocules|mun_ocules|loc_resid|loc_ocurr|loc_ocules|razon_m|loc_ocur|tloc_regis|loc_regis|cod_adicio|ent_nac|afromex|conindig|cve_lengua|nacesp_cve|sem_gest|gramos|tipo_defun|cirugia|natviole|usonecrops|encefalica|donador|id_inegi|def_indexada|lista_mex_indexada|\n",
      "+---+---------+---------+---------+---------+----------+---------+---------+---------+---------+----+----+---------+---------+---------+---------+----------+---------+---------+----------+---------+----------+---------+--------+----------+----------+---------+----------+----------+---------+----------+----------+----------+--------+--------+-----+-------+--------+-----+------+---------+--------+---------+--------+----------+----------+---------+-------+----------+--------+--------+---------+----+------+--------+--------+----------+----------+---------+---------+----------+-------+--------+----------+---------+----------+-------+-------+--------+----------+----------+--------+------+----------+-------+--------+----------+----------+-------+--------+------------+------------------+\n",
      "|  0|        1|       10|        1|        1|        14|        1|        1|     A419|      03I|   2|4090|        5|        1|     2000|        1|      2000|       99|       99|      1910|        2|         3|        2|     9.0|         9|         9|        9|         1|         3|        2|       9.0|         1|         1|       9|       9|   10|     30|       1|    4|  12.0|       03|     9.0|       23|    NULL|       999|      NULL|     NULL|   NULL|      NULL|    NULL|    NULL|     NULL|NULL|  NULL|    NULL|    NULL|      NULL|      NULL|     NULL|     NULL|      NULL|   NULL|    NULL|      NULL|     NULL|      NULL|   NULL|   NULL|    NULL|      NULL|      NULL|    NULL|  NULL|      NULL|   NULL|    NULL|      NULL|      NULL|   NULL|    NULL|        29.0|              35.0|\n",
      "|  1|        1|        1|        1|        1|        14|        1|        1|     P369|      46G|   2|2018|       99|        1|     2000|        1|      2000|       99|       99|      1999|       98|         9|        9|     9.0|         9|         9|        9|         1|         1|        1|       9.0|         1|         2|       9|       9|   18|     30|      16|    5|  92.0|       46|     9.0|        1|    NULL|       999|      NULL|     NULL|   NULL|      NULL|    NULL|    NULL|     NULL|NULL|  NULL|    NULL|    NULL|      NULL|      NULL|     NULL|     NULL|      NULL|   NULL|    NULL|      NULL|     NULL|      NULL|   NULL|   NULL|    NULL|      NULL|      NULL|    NULL|  NULL|      NULL|   NULL|    NULL|      NULL|      NULL|   NULL|    NULL|        52.0|              51.0|\n",
      "|  2|        1|        1|        1|        1|        14|        1|        1|     X594|      51Z|   2|4998|        1|        1|     2000|        1|      2000|       99|       99|      9999|        2|         1|        6|     1.0|         2|         3|        1|         2|         4|        3|       9.0|         1|         1|       9|       9|   20|      0|      20|   25| 103.0|      E51|     9.0|       30|    NULL|       999|      NULL|     NULL|   NULL|      NULL|    NULL|    NULL|     NULL|NULL|  NULL|    NULL|    NULL|      NULL|      NULL|     NULL|     NULL|      NULL|   NULL|    NULL|      NULL|     NULL|      NULL|   NULL|   NULL|    NULL|      NULL|      NULL|    NULL|  NULL|      NULL|   NULL|    NULL|      NULL|      NULL|   NULL|    NULL|       174.0|              10.0|\n",
      "|  3|        1|        1|        1|        1|        14|        1|        1|     I219|      28A|   2|4998|        1|        1|     2000|        1|      2000|       99|       99|      9999|        2|         9|        6|     9.0|         9|         9|        9|         1|         3|        1|       9.0|         1|        99|       9|       9|   17|      0|       9|    4|  67.0|       28|     9.0|       30|    NULL|       999|      NULL|     NULL|   NULL|      NULL|    NULL|    NULL|     NULL|NULL|  NULL|    NULL|    NULL|      NULL|      NULL|     NULL|     NULL|      NULL|   NULL|    NULL|      NULL|     NULL|      NULL|   NULL|   NULL|    NULL|      NULL|      NULL|    NULL|  NULL|      NULL|   NULL|    NULL|      NULL|      NULL|   NULL|    NULL|         0.0|               1.0|\n",
      "|  4|        1|        1|        1|        1|        14|        1|        1|     E122|      20D|   2|4078|        2|        1|     2000|        1|      2000|       99|       99|      1922|        2|         4|        6|     9.0|         9|         9|        9|         1|         1|        2|       9.0|         1|         2|       9|       9|   12|     10|       4|    2|  52.0|       20|     9.0|       20|    NULL|       999|      NULL|     NULL|   NULL|      NULL|    NULL|    NULL|     NULL|NULL|  NULL|    NULL|    NULL|      NULL|      NULL|     NULL|     NULL|      NULL|   NULL|    NULL|      NULL|     NULL|      NULL|   NULL|   NULL|    NULL|      NULL|      NULL|    NULL|  NULL|      NULL|   NULL|    NULL|      NULL|      NULL|   NULL|    NULL|       195.0|               0.0|\n",
      "|  5|        1|        1|        1|        1|        14|        1|        1|     J90X|      33J|   1|4051|       29|        1|     2000|        1|      2000|       99|       99|      1949|       11|         7|        2|     9.0|         9|         9|        9|         1|         2|        1|       9.0|         1|         3|       9|       9|   18|      0|      10|    9|  77.0|       33|     9.0|       15|    NULL|       999|      NULL|     NULL|   NULL|      NULL|    NULL|    NULL|     NULL|NULL|  NULL|    NULL|    NULL|      NULL|      NULL|     NULL|     NULL|      NULL|   NULL|    NULL|      NULL|     NULL|      NULL|   NULL|   NULL|    NULL|      NULL|      NULL|    NULL|  NULL|      NULL|   NULL|    NULL|      NULL|      NULL|   NULL|    NULL|       240.0|             119.0|\n",
      "|  6|        1|        1|        1|        1|        14|        1|        1|     K254|      35D|   1|4078|        1|        1|     2000|        1|      2000|       99|       99|      1922|        2|         4|        2|     9.0|         9|         9|        9|         2|         3|        2|       9.0|         1|         2|       9|       9|    2|      0|      11|    2|  79.0|       35|     9.0|       20|    NULL|       999|      NULL|     NULL|   NULL|      NULL|    NULL|    NULL|     NULL|NULL|  NULL|    NULL|    NULL|      NULL|      NULL|     NULL|     NULL|      NULL|   NULL|    NULL|      NULL|     NULL|      NULL|   NULL|   NULL|    NULL|      NULL|      NULL|    NULL|  NULL|      NULL|   NULL|    NULL|      NULL|      NULL|   NULL|    NULL|       124.0|              52.0|\n",
      "|  7|        1|        1|        1|        1|        14|        1|        1|     Q249|      47E|   1|3002|        1|        1|     2000|        1|      2000|       99|        1|      2000|       98|         9|        9|     9.0|         9|         9|        9|         1|         1|        1|       9.0|         1|         2|       9|       9|   99|     99|      17|    3|  93.0|       47|     9.0|        1|    NULL|       999|      NULL|     NULL|   NULL|      NULL|    NULL|    NULL|     NULL|NULL|  NULL|    NULL|    NULL|      NULL|      NULL|     NULL|     NULL|      NULL|   NULL|    NULL|      NULL|     NULL|      NULL|   NULL|   NULL|    NULL|      NULL|      NULL|    NULL|  NULL|      NULL|   NULL|    NULL|      NULL|      NULL|   NULL|    NULL|        51.0|              32.0|\n",
      "|  8|        1|        1|        1|        1|        14|        1|        1|     C509|      11D|   2|4082|       19|        1|     2000|        1|      2000|       99|       99|      1918|        2|         6|        1|     9.0|         9|         9|        9|         1|         3|        1|       9.0|         1|         1|       9|       9|    2|      0|       2|    7|  36.0|       11|     9.0|       21|    NULL|       999|      NULL|     NULL|   NULL|      NULL|    NULL|    NULL|     NULL|NULL|  NULL|    NULL|    NULL|      NULL|      NULL|     NULL|     NULL|      NULL|   NULL|    NULL|      NULL|     NULL|      NULL|   NULL|   NULL|    NULL|      NULL|      NULL|    NULL|  NULL|      NULL|   NULL|    NULL|      NULL|      NULL|   NULL|    NULL|        20.0|              28.0|\n",
      "|  9|        1|        1|        1|        1|        14|        1|        1|     C169|      09B|   1|4098|       11|        1|     2000|        1|      2000|       99|       99|      1902|       71|         2|        2|     9.0|         9|         9|        9|         1|         3|        1|       9.0|         1|         1|       9|       9|   18|     45|       2|    2|  29.0|       09|     9.0|       24|    NULL|       999|      NULL|     NULL|   NULL|      NULL|    NULL|    NULL|     NULL|NULL|  NULL|    NULL|    NULL|      NULL|      NULL|     NULL|     NULL|      NULL|   NULL|    NULL|      NULL|     NULL|      NULL|   NULL|   NULL|    NULL|      NULL|      NULL|    NULL|  NULL|      NULL|   NULL|    NULL|      NULL|      NULL|   NULL|    NULL|        21.0|              25.0|\n",
      "| 10|        1|        1|        1|        1|        14|        1|        1|     I269|      29A|   1|4073|       11|        1|     2000|        1|      2000|       99|       99|      1927|       52|         1|        2|     9.0|         9|         9|        9|         2|         3|        3|       9.0|         1|         2|       9|       9|    1|      0|       9|    5|  68.0|       29|     9.0|       19|    NULL|       999|      NULL|     NULL|   NULL|      NULL|    NULL|    NULL|     NULL|NULL|  NULL|    NULL|    NULL|      NULL|      NULL|     NULL|     NULL|      NULL|   NULL|    NULL|      NULL|     NULL|      NULL|   NULL|   NULL|    NULL|      NULL|      NULL|    NULL|  NULL|      NULL|   NULL|    NULL|      NULL|      NULL|   NULL|    NULL|        78.0|              70.0|\n",
      "| 11|        1|        1|        1|        1|        14|        1|        1|     K709|      35L|   2|4060|       31|       12|     1999|        1|      2000|       99|       99|      1939|        2|         1|        6|     9.0|         9|         9|        9|         1|         1|        2|       9.0|         1|         1|       9|       9|    9|     30|      11|    8|  80.0|       35|     9.0|       17|    NULL|       999|      NULL|     NULL|   NULL|      NULL|    NULL|    NULL|     NULL|NULL|  NULL|    NULL|    NULL|      NULL|      NULL|     NULL|     NULL|      NULL|   NULL|    NULL|      NULL|     NULL|      NULL|   NULL|   NULL|    NULL|      NULL|      NULL|    NULL|  NULL|      NULL|   NULL|    NULL|      NULL|      NULL|   NULL|    NULL|       163.0|               8.0|\n",
      "| 12|        1|        1|        1|        1|        14|        1|        1|     X594|      51Z|   1|4019|       29|        1|     2000|        1|      2000|       99|       99|      1981|       62|         5|        1|     1.0|         2|         3|        1|         1|         1|        3|       9.0|         1|         2|       9|       9|   14|     15|      20|   25| 103.0|      E51|     9.0|        8|    NULL|       999|      NULL|     NULL|   NULL|      NULL|    NULL|    NULL|     NULL|NULL|  NULL|    NULL|    NULL|      NULL|      NULL|     NULL|     NULL|      NULL|   NULL|    NULL|      NULL|     NULL|      NULL|   NULL|   NULL|    NULL|      NULL|      NULL|    NULL|  NULL|      NULL|   NULL|    NULL|      NULL|      NULL|   NULL|    NULL|       174.0|              10.0|\n",
      "| 13|        1|        1|       14|       32|         1|        1|        1|     P220|      46F|   1|2005|       99|        1|     2000|        1|      2000|       99|       99|      1999|       98|         9|        9|     9.0|         9|         9|        9|         1|         1|        1|       9.0|         1|         2|       9|       9|   22|     30|      16|    4|  92.0|       46|     9.0|        1|    NULL|       999|      NULL|     NULL|   NULL|      NULL|    NULL|    NULL|     NULL|NULL|  NULL|    NULL|    NULL|      NULL|      NULL|     NULL|     NULL|      NULL|   NULL|    NULL|      NULL|     NULL|      NULL|   NULL|   NULL|    NULL|      NULL|      NULL|    NULL|  NULL|      NULL|   NULL|    NULL|      NULL|      NULL|   NULL|    NULL|        36.0|              18.0|\n",
      "| 14|        1|        1|        1|        1|        14|        1|        1|     E147|      20D|   1|4075|       31|       12|     1999|        1|      2000|       21|        3|      1924|       52|         2|        6|     9.0|         9|         9|        9|         1|         1|        2|       9.0|         1|         2|       9|       9|   17|     55|       4|    2|  52.0|       20|     9.0|       20|    NULL|       999|      NULL|     NULL|   NULL|      NULL|    NULL|    NULL|     NULL|NULL|  NULL|    NULL|    NULL|      NULL|      NULL|     NULL|     NULL|      NULL|   NULL|    NULL|      NULL|     NULL|      NULL|   NULL|   NULL|    NULL|      NULL|      NULL|    NULL|  NULL|      NULL|   NULL|    NULL|      NULL|      NULL|   NULL|    NULL|        31.0|               0.0|\n",
      "| 15|        1|        1|        1|        1|        14|        1|        1|     X700|       54|   2|4021|        2|        1|     2000|        1|      2000|       99|       99|      1979|        2|         6|        1|     3.0|         2|         1|        1|         9|         3|        3|       9.0|         1|         1|       9|       9|   11|     50|      20|   26| 101.0|      E54|     9.0|        9|    NULL|       999|      NULL|     NULL|   NULL|      NULL|    NULL|    NULL|     NULL|NULL|  NULL|    NULL|    NULL|      NULL|      NULL|     NULL|     NULL|      NULL|   NULL|    NULL|      NULL|     NULL|      NULL|   NULL|   NULL|    NULL|      NULL|      NULL|    NULL|  NULL|      NULL|   NULL|    NULL|      NULL|      NULL|   NULL|    NULL|        41.0|              27.0|\n",
      "| 16|        1|        1|        1|        1|        14|        1|        1|     C23X|      09Z|   2|4081|       13|        1|     2000|        1|      2000|       99|        1|      1919|        2|         2|        6|     9.0|         9|         9|        9|         1|         3|        1|       9.0|         1|         3|       9|       9|    5|     40|       2|    2|  46.0|       09|     9.0|       21|    NULL|       999|      NULL|     NULL|   NULL|      NULL|    NULL|    NULL|     NULL|NULL|  NULL|    NULL|    NULL|      NULL|      NULL|     NULL|     NULL|      NULL|   NULL|    NULL|      NULL|     NULL|      NULL|   NULL|   NULL|    NULL|      NULL|      NULL|    NULL|  NULL|      NULL|   NULL|    NULL|      NULL|      NULL|   NULL|    NULL|       127.0|              58.0|\n",
      "| 17|        1|        1|        1|        1|        14|        1|        1|     J180|      33B|   2|3002|       30|       12|     1999|        1|      2000|        5|       10|      1999|       98|         9|        9|     9.0|         9|         9|        9|         1|         3|        1|       9.0|         1|         2|       9|       9|    7|      0|      10|    2|  74.0|       33|     9.0|        1|    NULL|       999|      NULL|     NULL|   NULL|      NULL|    NULL|    NULL|     NULL|NULL|  NULL|    NULL|    NULL|      NULL|      NULL|     NULL|     NULL|      NULL|   NULL|    NULL|      NULL|     NULL|      NULL|   NULL|   NULL|    NULL|      NULL|      NULL|    NULL|  NULL|      NULL|   NULL|    NULL|      NULL|      NULL|   NULL|    NULL|        49.0|               4.0|\n",
      "| 18|        1|        1|        1|        1|        14|        1|        1|     E117|      20D|   2|4075|       12|        1|     2000|        1|      2000|       99|       99|      1925|        2|         6|        6|     9.0|         9|         9|        9|         1|         1|        2|       9.0|         1|         2|       9|       9|    9|     20|       4|    2|  52.0|       20|     9.0|       20|    NULL|       999|      NULL|     NULL|   NULL|      NULL|    NULL|    NULL|     NULL|NULL|  NULL|    NULL|    NULL|      NULL|      NULL|     NULL|     NULL|      NULL|   NULL|    NULL|      NULL|     NULL|      NULL|   NULL|   NULL|    NULL|      NULL|      NULL|    NULL|  NULL|      NULL|   NULL|    NULL|      NULL|      NULL|   NULL|    NULL|         9.0|               0.0|\n",
      "| 19|        1|        1|        1|        1|        14|        1|        1|     R99X|      48Z|   2|4101|        2|        1|     2000|        1|      2000|       99|       99|      9999|        2|         6|        6|     9.0|         9|         9|        9|         1|         1|        1|       9.0|         1|         2|       9|       9|   21|     30|      18|   13|  94.0|       48|     9.0|       25|    NULL|       999|      NULL|     NULL|   NULL|      NULL|    NULL|    NULL|     NULL|NULL|  NULL|    NULL|    NULL|      NULL|      NULL|     NULL|     NULL|      NULL|   NULL|    NULL|      NULL|     NULL|      NULL|   NULL|   NULL|    NULL|      NULL|      NULL|    NULL|  NULL|      NULL|   NULL|    NULL|      NULL|      NULL|   NULL|    NULL|        48.0|              23.0|\n",
      "+---+---------+---------+---------+---------+----------+---------+---------+---------+---------+----+----+---------+---------+---------+---------+----------+---------+---------+----------+---------+----------+---------+--------+----------+----------+---------+----------+----------+---------+----------+----------+----------+--------+--------+-----+-------+--------+-----+------+---------+--------+---------+--------+----------+----------+---------+-------+----------+--------+--------+---------+----+------+--------+--------+----------+----------+---------+---------+----------+-------+--------+----------+---------+----------+-------+-------+--------+----------+----------+--------+------+----------+-------+--------+----------+----------+-------+--------+------------+------------------+\n",
      "only showing top 20 rows\n",
      "\n"
     ]
    }
   ],
   "source": [
    "df_indexado.show()"
   ]
  },
  {
   "cell_type": "code",
   "execution_count": 16,
   "metadata": {},
   "outputs": [],
   "source": [
    "df_indexado=df_indexado.select(\"ent_regis\",'lista_mex_indexada','def_indexada','sexo','edad','ocupacion','escolarida','edo_civil','presunto','asist_medi','vio_fami','grupo')"
   ]
  },
  {
   "cell_type": "code",
   "execution_count": 17,
   "metadata": {},
   "outputs": [],
   "source": [
    "df_indexado=df_indexado.dropna()"
   ]
  },
  {
   "cell_type": "code",
   "execution_count": 18,
   "metadata": {},
   "outputs": [
    {
     "name": "stdout",
     "output_type": "stream",
     "text": [
      "+-----------------------------------------------------+\n",
      "|features                                             |\n",
      "+-----------------------------------------------------+\n",
      "|[1.0,35.0,29.0,2.0,4090.0,2.0,3.0,2.0,9.0,1.0,9.0]   |\n",
      "|[1.0,51.0,52.0,2.0,2018.0,98.0,9.0,9.0,9.0,1.0,9.0]  |\n",
      "|[1.0,10.0,174.0,2.0,4998.0,2.0,1.0,6.0,1.0,2.0,9.0]  |\n",
      "|[1.0,1.0,0.0,2.0,4998.0,2.0,9.0,6.0,9.0,1.0,9.0]     |\n",
      "|[1.0,0.0,195.0,2.0,4078.0,2.0,4.0,6.0,9.0,1.0,9.0]   |\n",
      "|[1.0,119.0,240.0,1.0,4051.0,11.0,7.0,2.0,9.0,1.0,9.0]|\n",
      "|[1.0,52.0,124.0,1.0,4078.0,2.0,4.0,2.0,9.0,2.0,9.0]  |\n",
      "|[1.0,32.0,51.0,1.0,3002.0,98.0,9.0,9.0,9.0,1.0,9.0]  |\n",
      "|[1.0,28.0,20.0,2.0,4082.0,2.0,6.0,1.0,9.0,1.0,9.0]   |\n",
      "|[1.0,25.0,21.0,1.0,4098.0,71.0,2.0,2.0,9.0,1.0,9.0]  |\n",
      "|[1.0,70.0,78.0,1.0,4073.0,52.0,1.0,2.0,9.0,2.0,9.0]  |\n",
      "|[1.0,8.0,163.0,2.0,4060.0,2.0,1.0,6.0,9.0,1.0,9.0]   |\n",
      "|[1.0,10.0,174.0,1.0,4019.0,62.0,5.0,1.0,1.0,1.0,9.0] |\n",
      "|[1.0,18.0,36.0,1.0,2005.0,98.0,9.0,9.0,9.0,1.0,9.0]  |\n",
      "|[1.0,0.0,31.0,1.0,4075.0,52.0,2.0,6.0,9.0,1.0,9.0]   |\n",
      "|[1.0,27.0,41.0,2.0,4021.0,2.0,6.0,1.0,3.0,9.0,9.0]   |\n",
      "|[1.0,58.0,127.0,2.0,4081.0,2.0,2.0,6.0,9.0,1.0,9.0]  |\n",
      "|[1.0,4.0,49.0,2.0,3002.0,98.0,9.0,9.0,9.0,1.0,9.0]   |\n",
      "|[1.0,0.0,9.0,2.0,4075.0,2.0,6.0,6.0,9.0,1.0,9.0]     |\n",
      "|[1.0,23.0,48.0,2.0,4101.0,2.0,6.0,6.0,9.0,1.0,9.0]   |\n",
      "|[1.0,0.0,31.0,1.0,4075.0,2.0,2.0,6.0,9.0,1.0,9.0]    |\n",
      "|[1.0,8.0,7.0,1.0,4066.0,2.0,5.0,2.0,9.0,1.0,9.0]     |\n",
      "|[1.0,17.0,14.0,2.0,4090.0,2.0,3.0,6.0,9.0,1.0,9.0]   |\n",
      "|[1.0,17.0,14.0,1.0,4076.0,2.0,1.0,2.0,9.0,1.0,9.0]   |\n",
      "|[1.0,0.0,9.0,1.0,4060.0,55.0,1.0,2.0,9.0,1.0,9.0]    |\n",
      "|[1.0,4.0,3.0,2.0,3009.0,98.0,9.0,9.0,9.0,1.0,9.0]    |\n",
      "|[1.0,17.0,14.0,2.0,4079.0,2.0,2.0,2.0,9.0,1.0,9.0]   |\n",
      "|[1.0,44.0,43.0,2.0,4082.0,2.0,1.0,6.0,9.0,1.0,9.0]   |\n",
      "|[1.0,0.0,8.0,2.0,4056.0,2.0,2.0,6.0,9.0,1.0,9.0]     |\n",
      "|[1.0,13.0,27.0,2.0,4069.0,2.0,2.0,6.0,9.0,2.0,9.0]   |\n",
      "|[1.0,11.0,30.0,2.0,4075.0,2.0,4.0,6.0,9.0,1.0,9.0]   |\n",
      "|[1.0,6.0,6.0,1.0,4074.0,52.0,3.0,2.0,9.0,1.0,9.0]    |\n",
      "|[1.0,133.0,212.0,1.0,4080.0,41.0,2.0,2.0,9.0,1.0,9.0]|\n",
      "|[1.0,158.0,652.0,1.0,4090.0,52.0,4.0,6.0,1.0,1.0,9.0]|\n",
      "|[1.0,37.0,28.0,2.0,4075.0,2.0,4.0,2.0,9.0,1.0,9.0]   |\n",
      "|[1.0,37.0,28.0,2.0,4039.0,2.0,2.0,3.0,9.0,1.0,9.0]   |\n",
      "|[1.0,15.0,23.0,1.0,4086.0,52.0,1.0,6.0,9.0,1.0,9.0]  |\n",
      "|[1.0,27.0,41.0,1.0,4046.0,62.0,4.0,2.0,3.0,1.0,9.0]  |\n",
      "|[1.0,137.0,628.0,2.0,2017.0,98.0,9.0,9.0,9.0,1.0,9.0]|\n",
      "|[1.0,1.0,0.0,2.0,4095.0,2.0,4.0,1.0,9.0,1.0,9.0]     |\n",
      "|[1.0,10.0,22.0,2.0,4089.0,2.0,1.0,6.0,1.0,1.0,9.0]   |\n",
      "|[1.0,135.0,278.0,1.0,4026.0,11.0,6.0,3.0,9.0,2.0,9.0]|\n",
      "|[1.0,0.0,26.0,1.0,4067.0,52.0,2.0,2.0,9.0,1.0,9.0]   |\n",
      "|[1.0,19.0,103.0,1.0,3003.0,98.0,9.0,9.0,9.0,9.0,9.0] |\n",
      "|[1.0,18.0,36.0,1.0,2001.0,98.0,9.0,9.0,9.0,1.0,9.0]  |\n",
      "|[1.0,9.0,68.0,2.0,4082.0,2.0,1.0,1.0,9.0,1.0,9.0]    |\n",
      "|[1.0,37.0,28.0,2.0,4057.0,2.0,4.0,2.0,9.0,1.0,9.0]   |\n",
      "|[1.0,17.0,14.0,1.0,4058.0,71.0,4.0,2.0,9.0,1.0,9.0]  |\n",
      "|[1.0,83.0,1064.0,2.0,4072.0,2.0,7.0,2.0,9.0,1.0,9.0] |\n",
      "|[1.0,0.0,420.0,1.0,4050.0,52.0,4.0,2.0,9.0,2.0,9.0]  |\n",
      "|[1.0,0.0,31.0,1.0,4066.0,2.0,3.0,2.0,9.0,1.0,9.0]    |\n",
      "|[1.0,9.0,65.0,1.0,4075.0,72.0,2.0,6.0,9.0,1.0,9.0]   |\n",
      "|[1.0,43.0,230.0,1.0,4056.0,41.0,3.0,2.0,9.0,1.0,9.0] |\n",
      "|[1.0,30.0,47.0,2.0,4092.0,2.0,1.0,6.0,9.0,1.0,9.0]   |\n",
      "|[1.0,68.0,269.0,2.0,4030.0,11.0,7.0,1.0,9.0,1.0,9.0] |\n",
      "|[1.0,47.0,42.0,1.0,4061.0,99.0,9.0,1.0,9.0,1.0,9.0]  |\n",
      "|[1.0,39.0,50.0,2.0,4052.0,2.0,4.0,2.0,9.0,1.0,9.0]   |\n",
      "|[1.0,52.0,124.0,2.0,4085.0,2.0,4.0,6.0,9.0,1.0,9.0]  |\n",
      "|[1.0,67.0,1053.0,2.0,4034.0,2.0,2.0,3.0,9.0,1.0,9.0] |\n",
      "|[1.0,0.0,9.0,1.0,4065.0,41.0,2.0,2.0,9.0,1.0,9.0]    |\n",
      "|[1.0,177.0,403.0,1.0,3005.0,98.0,9.0,9.0,9.0,1.0,9.0]|\n",
      "|[1.0,194.0,1544.0,2.0,4086.0,2.0,2.0,6.0,9.0,1.0,9.0]|\n",
      "|[1.0,115.0,203.0,2.0,2021.0,98.0,9.0,9.0,9.0,1.0,9.0]|\n",
      "|[1.0,16.0,905.0,1.0,4074.0,2.0,3.0,2.0,9.0,1.0,9.0]  |\n",
      "|[1.0,60.0,72.0,2.0,4049.0,2.0,4.0,2.0,9.0,1.0,9.0]   |\n",
      "|[1.0,5.0,5.0,1.0,4054.0,2.0,5.0,1.0,9.0,1.0,9.0]     |\n",
      "|[1.0,30.0,47.0,1.0,4082.0,52.0,4.0,6.0,9.0,1.0,9.0]  |\n",
      "|[1.0,49.0,57.0,2.0,4085.0,2.0,3.0,1.0,9.0,1.0,9.0]   |\n",
      "|[1.0,112.0,1679.0,1.0,4064.0,2.0,5.0,2.0,9.0,1.0,9.0]|\n",
      "|[1.0,42.0,502.0,2.0,4070.0,2.0,4.0,2.0,9.0,1.0,9.0]  |\n",
      "|[1.0,0.0,31.0,1.0,4082.0,2.0,6.0,2.0,9.0,1.0,9.0]    |\n",
      "|[1.0,51.0,52.0,1.0,2006.0,98.0,9.0,9.0,9.0,1.0,9.0]  |\n",
      "|[1.0,1.0,0.0,1.0,4093.0,2.0,7.0,1.0,9.0,1.0,9.0]     |\n",
      "|[1.0,1.0,0.0,1.0,4090.0,41.0,1.0,2.0,9.0,1.0,9.0]    |\n",
      "|[1.0,0.0,9.0,2.0,4063.0,2.0,2.0,2.0,9.0,1.0,9.0]     |\n",
      "|[1.0,14.0,32.0,2.0,4082.0,13.0,7.0,1.0,9.0,1.0,9.0]  |\n",
      "|[1.0,18.0,36.0,1.0,1008.0,98.0,9.0,9.0,9.0,1.0,9.0]  |\n",
      "|[1.0,0.0,26.0,2.0,4040.0,71.0,4.0,1.0,9.0,1.0,9.0]   |\n",
      "|[1.0,30.0,47.0,2.0,4045.0,2.0,1.0,1.0,9.0,1.0,9.0]   |\n",
      "|[1.0,15.0,23.0,2.0,4097.0,2.0,4.0,6.0,9.0,1.0,9.0]   |\n",
      "|[1.0,21.0,17.0,2.0,4051.0,2.0,1.0,6.0,9.0,1.0,9.0]   |\n",
      "|[1.0,19.0,265.0,1.0,4087.0,41.0,1.0,2.0,9.0,1.0,9.0] |\n",
      "|[1.0,0.0,31.0,1.0,4038.0,2.0,5.0,2.0,9.0,1.0,9.0]    |\n",
      "|[1.0,6.0,25.0,1.0,4089.0,41.0,1.0,2.0,9.0,1.0,9.0]   |\n",
      "|[1.0,1.0,0.0,1.0,4066.0,2.0,9.0,2.0,9.0,2.0,9.0]     |\n",
      "|[1.0,6.0,6.0,2.0,4079.0,2.0,1.0,2.0,9.0,1.0,9.0]     |\n",
      "|[1.0,0.0,9.0,2.0,4064.0,2.0,3.0,6.0,9.0,1.0,9.0]     |\n",
      "|[1.0,8.0,7.0,1.0,4041.0,2.0,3.0,2.0,9.0,2.0,9.0]     |\n",
      "|[1.0,19.0,56.0,2.0,4007.0,98.0,2.0,9.0,9.0,1.0,9.0]  |\n",
      "|[1.0,6.0,6.0,1.0,4067.0,99.0,9.0,2.0,9.0,1.0,9.0]    |\n",
      "|[1.0,19.0,266.0,2.0,4100.0,2.0,1.0,6.0,9.0,1.0,9.0]  |\n",
      "|[1.0,17.0,14.0,2.0,4080.0,2.0,2.0,2.0,9.0,1.0,9.0]   |\n",
      "|[1.0,198.0,545.0,1.0,4070.0,71.0,2.0,2.0,9.0,1.0,9.0]|\n",
      "|[1.0,35.0,29.0,1.0,4028.0,2.0,4.0,1.0,9.0,1.0,9.0]   |\n",
      "|[1.0,1.0,0.0,1.0,4058.0,52.0,2.0,2.0,9.0,9.0,9.0]    |\n",
      "|[1.0,13.0,27.0,1.0,4068.0,71.0,6.0,2.0,9.0,1.0,9.0]  |\n",
      "|[1.0,139.0,385.0,1.0,3001.0,98.0,9.0,9.0,9.0,2.0,9.0]|\n",
      "|[1.0,85.0,233.0,1.0,4064.0,2.0,2.0,2.0,9.0,1.0,9.0]  |\n",
      "|[1.0,142.0,62.0,1.0,4060.0,62.0,5.0,2.0,1.0,2.0,9.0] |\n",
      "|[1.0,55.0,320.0,1.0,4040.0,83.0,2.0,2.0,1.0,1.0,9.0] |\n",
      "+-----------------------------------------------------+\n",
      "only showing top 100 rows\n",
      "\n"
     ]
    }
   ],
   "source": [
    "assembler = VectorAssembler(inputCols = inputCols, outputCol = \"features\")\n",
    "df_with_features = assembler.transform(df_indexado)\n",
    "\n",
    "df_with_features.select('features').show(100, False)"
   ]
  },
  {
   "cell_type": "code",
   "execution_count": 19,
   "metadata": {},
   "outputs": [
    {
     "name": "stdout",
     "output_type": "stream",
     "text": [
      "+---------+------------------+------------+----+----+---------+----------+---------+--------+----------+--------+-----+--------------------+-----------------+\n",
      "|ent_regis|lista_mex_indexada|def_indexada|sexo|edad|ocupacion|escolarida|edo_civil|presunto|asist_medi|vio_fami|grupo|            features|selected_features|\n",
      "+---------+------------------+------------+----+----+---------+----------+---------+--------+----------+--------+-----+--------------------+-----------------+\n",
      "|        1|              35.0|        29.0|   2|4090|        2|         3|        2|     9.0|         1|     9.0|    4|[1.0,35.0,29.0,2....|  [1.0,35.0,29.0]|\n",
      "|        1|              51.0|        52.0|   2|2018|       98|         9|        9|     9.0|         1|     9.0|    5|[1.0,51.0,52.0,2....|  [1.0,51.0,52.0]|\n",
      "|        1|              10.0|       174.0|   2|4998|        2|         1|        6|     1.0|         2|     9.0|   25|[1.0,10.0,174.0,2...| [1.0,10.0,174.0]|\n",
      "|        1|               1.0|         0.0|   2|4998|        2|         9|        6|     9.0|         1|     9.0|    4|[1.0,1.0,0.0,2.0,...|    [1.0,1.0,0.0]|\n",
      "|        1|               0.0|       195.0|   2|4078|        2|         4|        6|     9.0|         1|     9.0|    2|[1.0,0.0,195.0,2....|  [1.0,0.0,195.0]|\n",
      "+---------+------------------+------------+----+----+---------+----------+---------+--------+----------+--------+-----+--------------------+-----------------+\n",
      "only showing top 5 rows\n",
      "\n"
     ]
    }
   ],
   "source": [
    "# Selección de características usando Chi-Square\n",
    "selector = ChiSqSelector(numTopFeatures = 3, featuresCol = \"features\", labelCol=\"grupo\",\n",
    "                         outputCol=\"selected_features\")\n",
    "df_sel = selector.fit(df_with_features).transform(df_with_features)\n",
    "df_sel.show(5)"
   ]
  },
  {
   "cell_type": "code",
   "execution_count": 20,
   "metadata": {},
   "outputs": [],
   "source": [
    "from pyspark.ml.clustering import KMeans\n",
    "from pyspark.ml.evaluation import ClusteringEvaluator \n"
   ]
  },
  {
   "cell_type": "code",
   "execution_count": 24,
   "metadata": {},
   "outputs": [],
   "source": [
    "#silhouette_score=[] \n",
    "silhouette_score=[0.9284602995721694,\n",
    " 0.9093726733723374,\n",
    " 0.8710855943368215,\n",
    " 0.874738529815988,\n",
    " 0.7058118632185095,\n",
    " 0.7304722969480356]"
   ]
  },
  {
   "cell_type": "code",
   "execution_count": 23,
   "metadata": {},
   "outputs": [
    {
     "name": "stdout",
     "output_type": "stream",
     "text": [
      "Silhouette Score for k = 5 is 0.9284602995721694\n",
      "Silhouette Score for k = 6 is 0.9093726733723374\n",
      "Silhouette Score for k = 7 is 0.8710855943368215\n",
      "Silhouette Score for k = 8 is 0.874738529815988\n",
      "Silhouette Score for k = 9 is 0.7058118632185095\n",
      "Silhouette Score for k = 10 is 0.7304722969480356\n"
     ]
    },
    {
     "name": "stderr",
     "output_type": "stream",
     "text": [
      "ERROR:root:Exception while sending command.\n",
      "Traceback (most recent call last):\n",
      "  File \"c:\\Users\\Victor\\anaconda3\\Lib\\site-packages\\IPython\\core\\interactiveshell.py\", line 3577, in run_code\n",
      "    exec(code_obj, self.user_global_ns, self.user_ns)\n",
      "  File \"C:\\Users\\Victor\\AppData\\Local\\Temp\\ipykernel_66832\\1580362422.py\", line 8, in <module>\n",
      "    model=kmeans.fit(df_with_features)\n",
      "         ^^^^^^^^^^^^^^^^^^^^^^^^^^^^\n",
      "  File \"c:\\Users\\Victor\\anaconda3\\Lib\\site-packages\\pyspark\\ml\\base.py\", line 205, in fit\n",
      "    return self._fit(dataset)\n",
      "           ^^^^^^^^^^^^^^^^^^\n",
      "  File \"c:\\Users\\Victor\\anaconda3\\Lib\\site-packages\\pyspark\\ml\\wrapper.py\", line 381, in _fit\n",
      "    java_model = self._fit_java(dataset)\n",
      "                 ^^^^^^^^^^^^^^^^^^^^^^^\n",
      "  File \"c:\\Users\\Victor\\anaconda3\\Lib\\site-packages\\pyspark\\ml\\wrapper.py\", line 378, in _fit_java\n",
      "    return self._java_obj.fit(dataset._jdf)\n",
      "           ^^^^^^^^^^^^^^^^^^^^^^^^^^^^^^^^\n",
      "  File \"c:\\Users\\Victor\\anaconda3\\Lib\\site-packages\\py4j\\java_gateway.py\", line 1322, in __call__\n",
      "    return_value = get_return_value(\n",
      "                   ^^^^^^^^^^^^^^^^^\n",
      "  File \"c:\\Users\\Victor\\anaconda3\\Lib\\site-packages\\pyspark\\errors\\exceptions\\captured.py\", line 179, in deco\n",
      "    return f(*a, **kw)\n",
      "           ^^^^^^^^^^^\n",
      "  File \"c:\\Users\\Victor\\anaconda3\\Lib\\site-packages\\py4j\\protocol.py\", line 326, in get_return_value\n",
      "    raise Py4JJavaError(\n",
      "py4j.protocol.Py4JJavaError: <exception str() failed>\n",
      "\n",
      "During handling of the above exception, another exception occurred:\n",
      "\n",
      "Traceback (most recent call last):\n",
      "  File \"c:\\Users\\Victor\\anaconda3\\Lib\\site-packages\\py4j\\clientserver.py\", line 511, in send_command\n",
      "    answer = smart_decode(self.stream.readline()[:-1])\n",
      "                          ^^^^^^^^^^^^^^^^^^^^^^\n",
      "  File \"c:\\Users\\Victor\\anaconda3\\Lib\\socket.py\", line 708, in readinto\n",
      "    return self._sock.recv_into(b)\n",
      "           ^^^^^^^^^^^^^^^^^^^^^^^\n",
      "ConnectionResetError: [WinError 10054] Se ha forzado la interrupción de una conexión existente por el host remoto\n",
      "\n",
      "During handling of the above exception, another exception occurred:\n",
      "\n",
      "Traceback (most recent call last):\n",
      "  File \"c:\\Users\\Victor\\anaconda3\\Lib\\site-packages\\py4j\\java_gateway.py\", line 1038, in send_command\n",
      "    response = connection.send_command(command)\n",
      "               ^^^^^^^^^^^^^^^^^^^^^^^^^^^^^^^^\n",
      "  File \"c:\\Users\\Victor\\anaconda3\\Lib\\site-packages\\py4j\\clientserver.py\", line 539, in send_command\n",
      "    raise Py4JNetworkError(\n",
      "py4j.protocol.Py4JNetworkError: Error while sending or receiving\n",
      "ERROR:root:Exception while sending command.\n",
      "Traceback (most recent call last):\n",
      "  File \"c:\\Users\\Victor\\anaconda3\\Lib\\site-packages\\py4j\\clientserver.py\", line 511, in send_command\n",
      "    answer = smart_decode(self.stream.readline()[:-1])\n",
      "                          ^^^^^^^^^^^^^^^^^^^^^^\n",
      "  File \"c:\\Users\\Victor\\anaconda3\\Lib\\socket.py\", line 708, in readinto\n",
      "    return self._sock.recv_into(b)\n",
      "           ^^^^^^^^^^^^^^^^^^^^^^^\n",
      "ConnectionResetError: [WinError 10054] Se ha forzado la interrupción de una conexión existente por el host remoto\n",
      "\n",
      "During handling of the above exception, another exception occurred:\n",
      "\n",
      "Traceback (most recent call last):\n",
      "  File \"c:\\Users\\Victor\\anaconda3\\Lib\\site-packages\\py4j\\java_gateway.py\", line 1038, in send_command\n",
      "    response = connection.send_command(command)\n",
      "               ^^^^^^^^^^^^^^^^^^^^^^^^^^^^^^^^\n",
      "  File \"c:\\Users\\Victor\\anaconda3\\Lib\\site-packages\\py4j\\clientserver.py\", line 539, in send_command\n",
      "    raise Py4JNetworkError(\n",
      "py4j.protocol.Py4JNetworkError: Error while sending or receiving\n"
     ]
    },
    {
     "ename": "ConnectionRefusedError",
     "evalue": "[WinError 10061] No se puede establecer una conexión ya que el equipo de destino denegó expresamente dicha conexión",
     "output_type": "error",
     "traceback": [
      "\u001b[1;31m---------------------------------------------------------------------------\u001b[0m",
      "\u001b[1;31mPy4JJavaError\u001b[0m                             Traceback (most recent call last)",
      "    \u001b[1;31m[... skipping hidden 1 frame]\u001b[0m\n",
      "Cell \u001b[1;32mIn[23], line 8\u001b[0m\n\u001b[0;32m      7\u001b[0m kmeans\u001b[38;5;241m=\u001b[39mKMeans(featuresCol\u001b[38;5;241m=\u001b[39m\u001b[38;5;124m'\u001b[39m\u001b[38;5;124mfeatures\u001b[39m\u001b[38;5;124m'\u001b[39m, k\u001b[38;5;241m=\u001b[39mi) \n\u001b[1;32m----> 8\u001b[0m model\u001b[38;5;241m=\u001b[39mkmeans\u001b[38;5;241m.\u001b[39mfit(df_with_features) \n\u001b[0;32m      9\u001b[0m predictions\u001b[38;5;241m=\u001b[39mmodel\u001b[38;5;241m.\u001b[39mtransform(df_with_features) \n",
      "File \u001b[1;32mc:\\Users\\Victor\\anaconda3\\Lib\\site-packages\\pyspark\\ml\\base.py:205\u001b[0m, in \u001b[0;36mEstimator.fit\u001b[1;34m(self, dataset, params)\u001b[0m\n\u001b[0;32m    204\u001b[0m     \u001b[38;5;28;01melse\u001b[39;00m:\n\u001b[1;32m--> 205\u001b[0m         \u001b[38;5;28;01mreturn\u001b[39;00m \u001b[38;5;28mself\u001b[39m\u001b[38;5;241m.\u001b[39m_fit(dataset)\n\u001b[0;32m    206\u001b[0m \u001b[38;5;28;01melse\u001b[39;00m:\n",
      "File \u001b[1;32mc:\\Users\\Victor\\anaconda3\\Lib\\site-packages\\pyspark\\ml\\wrapper.py:381\u001b[0m, in \u001b[0;36mJavaEstimator._fit\u001b[1;34m(self, dataset)\u001b[0m\n\u001b[0;32m    380\u001b[0m \u001b[38;5;28;01mdef\u001b[39;00m \u001b[38;5;21m_fit\u001b[39m(\u001b[38;5;28mself\u001b[39m, dataset: DataFrame) \u001b[38;5;241m-\u001b[39m\u001b[38;5;241m>\u001b[39m JM:\n\u001b[1;32m--> 381\u001b[0m     java_model \u001b[38;5;241m=\u001b[39m \u001b[38;5;28mself\u001b[39m\u001b[38;5;241m.\u001b[39m_fit_java(dataset)\n\u001b[0;32m    382\u001b[0m     model \u001b[38;5;241m=\u001b[39m \u001b[38;5;28mself\u001b[39m\u001b[38;5;241m.\u001b[39m_create_model(java_model)\n",
      "File \u001b[1;32mc:\\Users\\Victor\\anaconda3\\Lib\\site-packages\\pyspark\\ml\\wrapper.py:378\u001b[0m, in \u001b[0;36mJavaEstimator._fit_java\u001b[1;34m(self, dataset)\u001b[0m\n\u001b[0;32m    377\u001b[0m \u001b[38;5;28mself\u001b[39m\u001b[38;5;241m.\u001b[39m_transfer_params_to_java()\n\u001b[1;32m--> 378\u001b[0m \u001b[38;5;28;01mreturn\u001b[39;00m \u001b[38;5;28mself\u001b[39m\u001b[38;5;241m.\u001b[39m_java_obj\u001b[38;5;241m.\u001b[39mfit(dataset\u001b[38;5;241m.\u001b[39m_jdf)\n",
      "File \u001b[1;32mc:\\Users\\Victor\\anaconda3\\Lib\\site-packages\\py4j\\java_gateway.py:1322\u001b[0m, in \u001b[0;36mJavaMember.__call__\u001b[1;34m(self, *args)\u001b[0m\n\u001b[0;32m   1321\u001b[0m answer \u001b[38;5;241m=\u001b[39m \u001b[38;5;28mself\u001b[39m\u001b[38;5;241m.\u001b[39mgateway_client\u001b[38;5;241m.\u001b[39msend_command(command)\n\u001b[1;32m-> 1322\u001b[0m return_value \u001b[38;5;241m=\u001b[39m get_return_value(\n\u001b[0;32m   1323\u001b[0m     answer, \u001b[38;5;28mself\u001b[39m\u001b[38;5;241m.\u001b[39mgateway_client, \u001b[38;5;28mself\u001b[39m\u001b[38;5;241m.\u001b[39mtarget_id, \u001b[38;5;28mself\u001b[39m\u001b[38;5;241m.\u001b[39mname)\n\u001b[0;32m   1325\u001b[0m \u001b[38;5;28;01mfor\u001b[39;00m temp_arg \u001b[38;5;129;01min\u001b[39;00m temp_args:\n",
      "File \u001b[1;32mc:\\Users\\Victor\\anaconda3\\Lib\\site-packages\\pyspark\\errors\\exceptions\\captured.py:179\u001b[0m, in \u001b[0;36mcapture_sql_exception.<locals>.deco\u001b[1;34m(*a, **kw)\u001b[0m\n\u001b[0;32m    178\u001b[0m \u001b[38;5;28;01mtry\u001b[39;00m:\n\u001b[1;32m--> 179\u001b[0m     \u001b[38;5;28;01mreturn\u001b[39;00m f(\u001b[38;5;241m*\u001b[39ma, \u001b[38;5;241m*\u001b[39m\u001b[38;5;241m*\u001b[39mkw)\n\u001b[0;32m    180\u001b[0m \u001b[38;5;28;01mexcept\u001b[39;00m Py4JJavaError \u001b[38;5;28;01mas\u001b[39;00m e:\n",
      "File \u001b[1;32mc:\\Users\\Victor\\anaconda3\\Lib\\site-packages\\py4j\\protocol.py:326\u001b[0m, in \u001b[0;36mget_return_value\u001b[1;34m(answer, gateway_client, target_id, name)\u001b[0m\n\u001b[0;32m    325\u001b[0m \u001b[38;5;28;01mif\u001b[39;00m answer[\u001b[38;5;241m1\u001b[39m] \u001b[38;5;241m==\u001b[39m REFERENCE_TYPE:\n\u001b[1;32m--> 326\u001b[0m     \u001b[38;5;28;01mraise\u001b[39;00m Py4JJavaError(\n\u001b[0;32m    327\u001b[0m         \u001b[38;5;124m\"\u001b[39m\u001b[38;5;124mAn error occurred while calling \u001b[39m\u001b[38;5;132;01m{0}\u001b[39;00m\u001b[38;5;132;01m{1}\u001b[39;00m\u001b[38;5;132;01m{2}\u001b[39;00m\u001b[38;5;124m.\u001b[39m\u001b[38;5;130;01m\\n\u001b[39;00m\u001b[38;5;124m\"\u001b[39m\u001b[38;5;241m.\u001b[39m\n\u001b[0;32m    328\u001b[0m         \u001b[38;5;28mformat\u001b[39m(target_id, \u001b[38;5;124m\"\u001b[39m\u001b[38;5;124m.\u001b[39m\u001b[38;5;124m\"\u001b[39m, name), value)\n\u001b[0;32m    329\u001b[0m \u001b[38;5;28;01melse\u001b[39;00m:\n",
      "\u001b[1;31m<class 'str'>\u001b[0m: (<class 'ConnectionRefusedError'>, ConnectionRefusedError(10061, 'No se puede establecer una conexión ya que el equipo de destino denegó expresamente dicha conexión', None, 10061, None))",
      "\nDuring handling of the above exception, another exception occurred:\n",
      "\u001b[1;31mConnectionRefusedError\u001b[0m                    Traceback (most recent call last)",
      "    \u001b[1;31m[... skipping hidden 1 frame]\u001b[0m\n",
      "File \u001b[1;32mc:\\Users\\Victor\\anaconda3\\Lib\\site-packages\\IPython\\core\\interactiveshell.py:2179\u001b[0m, in \u001b[0;36mInteractiveShell.showtraceback\u001b[1;34m(self, exc_tuple, filename, tb_offset, exception_only, running_compiled_code)\u001b[0m\n\u001b[0;32m   2176\u001b[0m         traceback\u001b[38;5;241m.\u001b[39mprint_exc()\n\u001b[0;32m   2177\u001b[0m         \u001b[38;5;28;01mreturn\u001b[39;00m \u001b[38;5;28;01mNone\u001b[39;00m\n\u001b[1;32m-> 2179\u001b[0m     \u001b[38;5;28mself\u001b[39m\u001b[38;5;241m.\u001b[39m_showtraceback(etype, value, stb)\n\u001b[0;32m   2180\u001b[0m \u001b[38;5;28;01mif\u001b[39;00m \u001b[38;5;28mself\u001b[39m\u001b[38;5;241m.\u001b[39mcall_pdb:\n\u001b[0;32m   2181\u001b[0m     \u001b[38;5;66;03m# drop into debugger\u001b[39;00m\n\u001b[0;32m   2182\u001b[0m     \u001b[38;5;28mself\u001b[39m\u001b[38;5;241m.\u001b[39mdebugger(force\u001b[38;5;241m=\u001b[39m\u001b[38;5;28;01mTrue\u001b[39;00m)\n",
      "File \u001b[1;32mc:\\Users\\Victor\\anaconda3\\Lib\\site-packages\\ipykernel\\zmqshell.py:559\u001b[0m, in \u001b[0;36mZMQInteractiveShell._showtraceback\u001b[1;34m(self, etype, evalue, stb)\u001b[0m\n\u001b[0;32m    553\u001b[0m sys\u001b[38;5;241m.\u001b[39mstdout\u001b[38;5;241m.\u001b[39mflush()\n\u001b[0;32m    554\u001b[0m sys\u001b[38;5;241m.\u001b[39mstderr\u001b[38;5;241m.\u001b[39mflush()\n\u001b[0;32m    556\u001b[0m exc_content \u001b[38;5;241m=\u001b[39m {\n\u001b[0;32m    557\u001b[0m     \u001b[38;5;124m\"\u001b[39m\u001b[38;5;124mtraceback\u001b[39m\u001b[38;5;124m\"\u001b[39m: stb,\n\u001b[0;32m    558\u001b[0m     \u001b[38;5;124m\"\u001b[39m\u001b[38;5;124mename\u001b[39m\u001b[38;5;124m\"\u001b[39m: \u001b[38;5;28mstr\u001b[39m(etype\u001b[38;5;241m.\u001b[39m\u001b[38;5;18m__name__\u001b[39m),\n\u001b[1;32m--> 559\u001b[0m     \u001b[38;5;124m\"\u001b[39m\u001b[38;5;124mevalue\u001b[39m\u001b[38;5;124m\"\u001b[39m: \u001b[38;5;28mstr\u001b[39m(evalue),\n\u001b[0;32m    560\u001b[0m }\n\u001b[0;32m    562\u001b[0m dh \u001b[38;5;241m=\u001b[39m \u001b[38;5;28mself\u001b[39m\u001b[38;5;241m.\u001b[39mdisplayhook\n\u001b[0;32m    563\u001b[0m \u001b[38;5;66;03m# Send exception info over pub socket for other clients than the caller\u001b[39;00m\n\u001b[0;32m    564\u001b[0m \u001b[38;5;66;03m# to pick up\u001b[39;00m\n",
      "File \u001b[1;32mc:\\Users\\Victor\\anaconda3\\Lib\\site-packages\\py4j\\protocol.py:471\u001b[0m, in \u001b[0;36mPy4JJavaError.__str__\u001b[1;34m(self)\u001b[0m\n\u001b[0;32m    469\u001b[0m \u001b[38;5;28;01mdef\u001b[39;00m \u001b[38;5;21m__str__\u001b[39m(\u001b[38;5;28mself\u001b[39m):\n\u001b[0;32m    470\u001b[0m     gateway_client \u001b[38;5;241m=\u001b[39m \u001b[38;5;28mself\u001b[39m\u001b[38;5;241m.\u001b[39mjava_exception\u001b[38;5;241m.\u001b[39m_gateway_client\n\u001b[1;32m--> 471\u001b[0m     answer \u001b[38;5;241m=\u001b[39m gateway_client\u001b[38;5;241m.\u001b[39msend_command(\u001b[38;5;28mself\u001b[39m\u001b[38;5;241m.\u001b[39mexception_cmd)\n\u001b[0;32m    472\u001b[0m     return_value \u001b[38;5;241m=\u001b[39m get_return_value(answer, gateway_client, \u001b[38;5;28;01mNone\u001b[39;00m, \u001b[38;5;28;01mNone\u001b[39;00m)\n\u001b[0;32m    473\u001b[0m     \u001b[38;5;66;03m# Note: technically this should return a bytestring 'str' rather than\u001b[39;00m\n\u001b[0;32m    474\u001b[0m     \u001b[38;5;66;03m# unicodes in Python 2; however, it can return unicodes for now.\u001b[39;00m\n\u001b[0;32m    475\u001b[0m     \u001b[38;5;66;03m# See https://github.com/bartdag/py4j/issues/306 for more details.\u001b[39;00m\n",
      "File \u001b[1;32mc:\\Users\\Victor\\anaconda3\\Lib\\site-packages\\py4j\\java_gateway.py:1036\u001b[0m, in \u001b[0;36mGatewayClient.send_command\u001b[1;34m(self, command, retry, binary)\u001b[0m\n\u001b[0;32m   1015\u001b[0m \u001b[38;5;28;01mdef\u001b[39;00m \u001b[38;5;21msend_command\u001b[39m(\u001b[38;5;28mself\u001b[39m, command, retry\u001b[38;5;241m=\u001b[39m\u001b[38;5;28;01mTrue\u001b[39;00m, binary\u001b[38;5;241m=\u001b[39m\u001b[38;5;28;01mFalse\u001b[39;00m):\n\u001b[0;32m   1016\u001b[0m \u001b[38;5;250m    \u001b[39m\u001b[38;5;124;03m\"\"\"Sends a command to the JVM. This method is not intended to be\u001b[39;00m\n\u001b[0;32m   1017\u001b[0m \u001b[38;5;124;03m       called directly by Py4J users. It is usually called by\u001b[39;00m\n\u001b[0;32m   1018\u001b[0m \u001b[38;5;124;03m       :class:`JavaMember` instances.\u001b[39;00m\n\u001b[1;32m   (...)\u001b[0m\n\u001b[0;32m   1034\u001b[0m \u001b[38;5;124;03m     if `binary` is `True`.\u001b[39;00m\n\u001b[0;32m   1035\u001b[0m \u001b[38;5;124;03m    \"\"\"\u001b[39;00m\n\u001b[1;32m-> 1036\u001b[0m     connection \u001b[38;5;241m=\u001b[39m \u001b[38;5;28mself\u001b[39m\u001b[38;5;241m.\u001b[39m_get_connection()\n\u001b[0;32m   1037\u001b[0m     \u001b[38;5;28;01mtry\u001b[39;00m:\n\u001b[0;32m   1038\u001b[0m         response \u001b[38;5;241m=\u001b[39m connection\u001b[38;5;241m.\u001b[39msend_command(command)\n",
      "File \u001b[1;32mc:\\Users\\Victor\\anaconda3\\Lib\\site-packages\\py4j\\clientserver.py:284\u001b[0m, in \u001b[0;36mJavaClient._get_connection\u001b[1;34m(self)\u001b[0m\n\u001b[0;32m    281\u001b[0m     \u001b[38;5;28;01mpass\u001b[39;00m\n\u001b[0;32m    283\u001b[0m \u001b[38;5;28;01mif\u001b[39;00m connection \u001b[38;5;129;01mis\u001b[39;00m \u001b[38;5;28;01mNone\u001b[39;00m \u001b[38;5;129;01mor\u001b[39;00m connection\u001b[38;5;241m.\u001b[39msocket \u001b[38;5;129;01mis\u001b[39;00m \u001b[38;5;28;01mNone\u001b[39;00m:\n\u001b[1;32m--> 284\u001b[0m     connection \u001b[38;5;241m=\u001b[39m \u001b[38;5;28mself\u001b[39m\u001b[38;5;241m.\u001b[39m_create_new_connection()\n\u001b[0;32m    285\u001b[0m \u001b[38;5;28;01mreturn\u001b[39;00m connection\n",
      "File \u001b[1;32mc:\\Users\\Victor\\anaconda3\\Lib\\site-packages\\py4j\\clientserver.py:291\u001b[0m, in \u001b[0;36mJavaClient._create_new_connection\u001b[1;34m(self)\u001b[0m\n\u001b[0;32m    287\u001b[0m \u001b[38;5;28;01mdef\u001b[39;00m \u001b[38;5;21m_create_new_connection\u001b[39m(\u001b[38;5;28mself\u001b[39m):\n\u001b[0;32m    288\u001b[0m     connection \u001b[38;5;241m=\u001b[39m ClientServerConnection(\n\u001b[0;32m    289\u001b[0m         \u001b[38;5;28mself\u001b[39m\u001b[38;5;241m.\u001b[39mjava_parameters, \u001b[38;5;28mself\u001b[39m\u001b[38;5;241m.\u001b[39mpython_parameters,\n\u001b[0;32m    290\u001b[0m         \u001b[38;5;28mself\u001b[39m\u001b[38;5;241m.\u001b[39mgateway_property, \u001b[38;5;28mself\u001b[39m)\n\u001b[1;32m--> 291\u001b[0m     connection\u001b[38;5;241m.\u001b[39mconnect_to_java_server()\n\u001b[0;32m    292\u001b[0m     \u001b[38;5;28mself\u001b[39m\u001b[38;5;241m.\u001b[39mset_thread_connection(connection)\n\u001b[0;32m    293\u001b[0m     \u001b[38;5;28;01mreturn\u001b[39;00m connection\n",
      "File \u001b[1;32mc:\\Users\\Victor\\anaconda3\\Lib\\site-packages\\py4j\\clientserver.py:438\u001b[0m, in \u001b[0;36mClientServerConnection.connect_to_java_server\u001b[1;34m(self)\u001b[0m\n\u001b[0;32m    435\u001b[0m \u001b[38;5;28;01mif\u001b[39;00m \u001b[38;5;28mself\u001b[39m\u001b[38;5;241m.\u001b[39mssl_context:\n\u001b[0;32m    436\u001b[0m     \u001b[38;5;28mself\u001b[39m\u001b[38;5;241m.\u001b[39msocket \u001b[38;5;241m=\u001b[39m \u001b[38;5;28mself\u001b[39m\u001b[38;5;241m.\u001b[39mssl_context\u001b[38;5;241m.\u001b[39mwrap_socket(\n\u001b[0;32m    437\u001b[0m         \u001b[38;5;28mself\u001b[39m\u001b[38;5;241m.\u001b[39msocket, server_hostname\u001b[38;5;241m=\u001b[39m\u001b[38;5;28mself\u001b[39m\u001b[38;5;241m.\u001b[39mjava_address)\n\u001b[1;32m--> 438\u001b[0m \u001b[38;5;28mself\u001b[39m\u001b[38;5;241m.\u001b[39msocket\u001b[38;5;241m.\u001b[39mconnect((\u001b[38;5;28mself\u001b[39m\u001b[38;5;241m.\u001b[39mjava_address, \u001b[38;5;28mself\u001b[39m\u001b[38;5;241m.\u001b[39mjava_port))\n\u001b[0;32m    439\u001b[0m \u001b[38;5;28mself\u001b[39m\u001b[38;5;241m.\u001b[39mstream \u001b[38;5;241m=\u001b[39m \u001b[38;5;28mself\u001b[39m\u001b[38;5;241m.\u001b[39msocket\u001b[38;5;241m.\u001b[39mmakefile(\u001b[38;5;124m\"\u001b[39m\u001b[38;5;124mrb\u001b[39m\u001b[38;5;124m\"\u001b[39m)\n\u001b[0;32m    440\u001b[0m \u001b[38;5;28mself\u001b[39m\u001b[38;5;241m.\u001b[39mis_connected \u001b[38;5;241m=\u001b[39m \u001b[38;5;28;01mTrue\u001b[39;00m\n",
      "\u001b[1;31mConnectionRefusedError\u001b[0m: [WinError 10061] No se puede establecer una conexión ya que el equipo de destino denegó expresamente dicha conexión"
     ]
    }
   ],
   "source": [
    "evaluator = ClusteringEvaluator(predictionCol='prediction', \n",
    "                                featuresCol='features', \n",
    "                                metricName='silhouette',  \n",
    "                                distanceMeasure='squaredEuclidean') \n",
    "  \n",
    "for i in range(5,20): \n",
    "    kmeans=KMeans(featuresCol='features', k=i) \n",
    "    model=kmeans.fit(df_with_features) \n",
    "    predictions=model.transform(df_with_features) \n",
    "    score=evaluator.evaluate(predictions) \n",
    "    silhouette_score.append(score) \n",
    "    print('Silhouette Score for k =',i,'is',score)"
   ]
  },
  {
   "cell_type": "code",
   "execution_count": 25,
   "metadata": {},
   "outputs": [
    {
     "data": {
      "text/plain": [
       "[0.9284602995721694,\n",
       " 0.9093726733723374,\n",
       " 0.8710855943368215,\n",
       " 0.874738529815988,\n",
       " 0.7058118632185095,\n",
       " 0.7304722969480356]"
      ]
     },
     "execution_count": 25,
     "metadata": {},
     "output_type": "execute_result"
    }
   ],
   "source": [
    "silhouette_score"
   ]
  },
  {
   "cell_type": "code",
   "execution_count": 26,
   "metadata": {},
   "outputs": [
    {
     "data": {
      "image/png": "[encoded data removed]",
      "text/plain": [
       "<Figure size 640x480 with 1 Axes>"
      ]
     },
     "metadata": {},
     "output_type": "display_data"
    }
   ],
   "source": [
    "import matplotlib.pyplot as plt \n",
    "  \n",
    "plt.plot(range(5,11),silhouette_score) \n",
    "plt.xlabel('k') \n",
    "plt.ylabel('silhouette score') \n",
    "plt.title('Silhouette Score') \n",
    "plt.show()"
   ]
  },
  {
   "cell_type": "code",
   "execution_count": 27,
   "metadata": {},
   "outputs": [],
   "source": [
    "kmeans = KMeans().setK(5)\n",
    "model = kmeans.fit(df_with_features)\n"
   ]
  },
  {
   "cell_type": "code",
   "execution_count": 28,
   "metadata": {},
   "outputs": [
    {
     "name": "stdout",
     "output_type": "stream",
     "text": [
      "+----------+\n",
      "|prediction|\n",
      "+----------+\n",
      "|         0|\n",
      "|         1|\n",
      "|         0|\n",
      "|         0|\n",
      "|         0|\n",
      "|         0|\n",
      "|         0|\n",
      "|         3|\n",
      "|         0|\n",
      "|         0|\n",
      "|         0|\n",
      "|         0|\n",
      "|         0|\n",
      "|         1|\n",
      "|         0|\n",
      "|         0|\n",
      "|         0|\n",
      "|         3|\n",
      "|         0|\n",
      "|         0|\n",
      "+----------+\n",
      "only showing top 20 rows\n",
      "\n"
     ]
    }
   ],
   "source": [
    "predictions = model.transform(df_with_features)\n",
    "predictions.select(\"prediction\").show()"
   ]
  },
  {
   "cell_type": "code",
   "execution_count": 29,
   "metadata": {},
   "outputs": [
    {
     "name": "stdout",
     "output_type": "stream",
     "text": [
      "Centro del cluster: \n",
      "[1.64681306e+01 1.86079712e+01 4.83804802e+01 1.44469001e+00\n",
      " 4.07139401e+03 2.22573397e+01 7.01731152e+00 3.70963991e+00\n",
      " 7.52542261e+00 1.63838532e+00 8.08619516e+00]\n",
      "[1.63479568e+01 5.45833312e+01 2.95412395e+02 1.46688609e+00\n",
      " 1.69861291e+03 9.71163725e+01 3.91811815e+01 8.11637246e+00\n",
      " 8.16740699e+00 1.36623083e+00 8.11631481e+00]\n",
      "[1.61961752e+01 8.50270351e+01 1.35728588e+03 1.41990261e+00\n",
      " 4.01901133e+03 3.23854320e+01 1.01197928e+01 3.99635274e+00\n",
      " 6.26475151e+00 1.79290512e+00 8.09640776e+00]\n",
      "[1.61526466e+01 6.78181494e+01 4.45362563e+02 1.41836140e+00\n",
      " 3.88701767e+03 3.90029868e+01 1.27394235e+01 4.41428016e+00\n",
      " 6.85377387e+00 1.73602950e+00 8.09190997e+00]\n",
      "[1.64223473e+01 1.07652842e+02 3.24719632e+03 1.41108813e+00\n",
      " 3.88103034e+03 3.82735524e+01 1.22513787e+01 4.25331904e+00\n",
      " 6.00444240e+00 1.80464920e+00 8.08738000e+00]\n"
     ]
    }
   ],
   "source": [
    "centers = model.clusterCenters() \n",
    "print(\"Centro del cluster: \") \n",
    "for center in centers: \n",
    "    print(center)"
   ]
  }
 ],
 "metadata": {
  "kernelspec": {
   "display_name": "base",
   "language": "python",
   "name": "python3"
  },
  "language_info": {
   "codemirror_mode": {
    "name": "ipython",
    "version": 3
   },
   "file_extension": ".py",
   "mimetype": "text/x-python",
   "name": "python",
   "nbconvert_exporter": "python",
   "pygments_lexer": "ipython3",
   "version": "3.12.4"
  }
 },
 "nbformat": 4,
 "nbformat_minor": 2
}
